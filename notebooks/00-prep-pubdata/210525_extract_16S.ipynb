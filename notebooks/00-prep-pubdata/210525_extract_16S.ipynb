{
 "cells": [
  {
   "cell_type": "markdown",
   "id": "amended-saudi",
   "metadata": {},
   "source": [
    "# Extract DNA sequences of 16S rRNAs"
   ]
  },
  {
   "cell_type": "code",
   "execution_count": 1,
   "id": "indian-jimmy",
   "metadata": {},
   "outputs": [],
   "source": [
    "from Bio import SeqIO\n",
    "from Bio.Seq import Seq\n",
    "from Bio.SeqFeature import ExactPosition\n",
    "from Bio.SeqRecord import SeqRecord\n",
    "from tqdm.notebook import tqdm\n",
    "from pyscripts.config import path2\n",
    "from pyscripts.datasets import Metadata, DatasetLoader\n",
    "metadata = Metadata()\n",
    "dloader  = DatasetLoader()"
   ]
  },
  {
   "cell_type": "code",
   "execution_count": 2,
   "id": "macro-wagner",
   "metadata": {},
   "outputs": [
    {
     "data": {
      "application/vnd.jupyter.widget-view+json": {
       "model_id": "0400dc79417b4eccb872d533e62dff36",
       "version_major": 2,
       "version_minor": 0
      },
      "text/plain": [
       "  0%|          | 0/2624 [00:00<?, ?it/s]"
      ]
     },
     "metadata": {},
     "output_type": "display_data"
    },
    {
     "name": "stdout",
     "output_type": "stream",
     "text": [
      "the following partial record was removed\n",
      "type: rRNA\n",
      "location: [<0:1434](-)\n",
      "qualifiers:\n",
      "    Key: db_xref, Value: ['RFAM:RF00177']\n",
      "    Key: inference, Value: ['COORDINATES: nucleotide motif:Rfam:12.0:RF00177', 'COORDINATES: profile:INFERNAL:1.1.1']\n",
      "    Key: locus_tag, Value: ['BQ4451_RS00005']\n",
      "    Key: note, Value: ['Derived by automated computational analysis using gene prediction method: cmsearch.']\n",
      "    Key: product, Value: ['16S ribosomal RNA']\n",
      "\n"
     ]
    }
   ],
   "source": [
    "def extract_16SrRNA(gcf):\n",
    "    rrs = []\n",
    "    for rec in dloader.load_genome(gcf):\n",
    "        for rrna in filter(lambda feat: feat.type == 'rRNA', rec.features):\n",
    "            # There are some orthographic variants in the 'product' section to describe 16S rRNAs\n",
    "            # e.g. '16S Ribosomal RNA', '16S ribosomal RNA', 'ribosomal RNA-16S', 'Small Subunit Ribosomal RNA; ssuRNA; 16S ribosomal RNA'\n",
    "            if '16S' not in rrna.qualifiers['product'][0]: continue    \n",
    "            loc = rrna.location\n",
    "            if type(loc.start) is ExactPosition and type(loc.end) is ExactPosition:\n",
    "                tag = rrna.qualifiers['locus_tag'][0]\n",
    "                rrs.append(SeqRecord(loc.extract(rec.seq), id=tag, name=tag, description=tag))\n",
    "            else:\n",
    "                print('the following partial record was removed')\n",
    "                print(rrna)\n",
    "    return rrs\n",
    "\n",
    "for gcf in tqdm(metadata.acc['refseq']):\n",
    "    rrs = extract_16SrRNA(gcf)\n",
    "    SeqIO.write(rrs, path2.data/'16S'/f'{gcf}.fna', 'fasta')\n",
    "    "
   ]
  },
  {
   "cell_type": "code",
   "execution_count": null,
   "id": "fatal-weight",
   "metadata": {},
   "outputs": [],
   "source": []
  }
 ],
 "metadata": {
  "kernelspec": {
   "display_name": "Python 3",
   "language": "python",
   "name": "python3"
  },
  "language_info": {
   "codemirror_mode": {
    "name": "ipython",
    "version": 3
   },
   "file_extension": ".py",
   "mimetype": "text/x-python",
   "name": "python",
   "nbconvert_exporter": "python",
   "pygments_lexer": "ipython3",
   "version": "3.8.8"
  }
 },
 "nbformat": 4,
 "nbformat_minor": 5
}
