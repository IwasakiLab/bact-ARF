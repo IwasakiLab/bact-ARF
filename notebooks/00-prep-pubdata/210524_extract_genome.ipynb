{
 "cells": [
  {
   "cell_type": "markdown",
   "id": "swedish-recipe",
   "metadata": {},
   "source": [
    "# Extract genomic sequences"
   ]
  },
  {
   "cell_type": "code",
   "execution_count": 1,
   "id": "plain-router",
   "metadata": {},
   "outputs": [],
   "source": [
    "from Bio import SeqIO\n",
    "from Bio.Seq import Seq\n",
    "from Bio.SeqRecord import SeqRecord\n",
    "from tqdm.notebook import tqdm\n",
    "from pyscripts.config import path2\n",
    "from pyscripts.datasets import Metadata, DatasetLoader\n",
    "metadata = Metadata()\n",
    "dloader  = DatasetLoader()"
   ]
  },
  {
   "cell_type": "code",
   "execution_count": 2,
   "id": "young-litigation",
   "metadata": {},
   "outputs": [
    {
     "data": {
      "application/vnd.jupyter.widget-view+json": {
       "model_id": "66c6e4073a784e8db58034bed57d4108",
       "version_major": 2,
       "version_minor": 0
      },
      "text/plain": [
       "  0%|          | 0/2624 [00:00<?, ?it/s]"
      ]
     },
     "metadata": {},
     "output_type": "display_data"
    }
   ],
   "source": [
    "for gcf in tqdm(metadata.acc['refseq']):\n",
    "    SeqIO.write(dloader.load_genome(gcf), path2.data/'genomic_fna'/f'{gcf}.fna', 'fasta')\n",
    "    "
   ]
  },
  {
   "cell_type": "code",
   "execution_count": null,
   "id": "provincial-clone",
   "metadata": {},
   "outputs": [],
   "source": []
  }
 ],
 "metadata": {
  "kernelspec": {
   "display_name": "Python 3",
   "language": "python",
   "name": "python3"
  },
  "language_info": {
   "codemirror_mode": {
    "name": "ipython",
    "version": 3
   },
   "file_extension": ".py",
   "mimetype": "text/x-python",
   "name": "python",
   "nbconvert_exporter": "python",
   "pygments_lexer": "ipython3",
   "version": "3.8.8"
  }
 },
 "nbformat": 4,
 "nbformat_minor": 5
}
