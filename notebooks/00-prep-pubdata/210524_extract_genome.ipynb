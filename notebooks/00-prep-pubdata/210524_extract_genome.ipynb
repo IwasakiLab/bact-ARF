{
 "cells": [
  {
   "cell_type": "markdown",
   "id": "abandoned-pakistan",
   "metadata": {},
   "source": [
    "# Extract genomic sequences"
   ]
  },
  {
   "cell_type": "markdown",
   "id": "cosmetic-thickness",
   "metadata": {},
   "source": [
    "- Re-ran on May. 31, and renamed the file because GTDB-Tk does not process the genome with the same ID as the reference genomeo of GTDB-Tk."
   ]
  },
  {
   "cell_type": "code",
   "execution_count": 1,
   "id": "artificial-eugene",
   "metadata": {},
   "outputs": [],
   "source": [
    "from Bio import SeqIO\n",
    "from Bio.Seq import Seq\n",
    "from Bio.SeqRecord import SeqRecord\n",
    "from tqdm.notebook import tqdm\n",
    "from pyscripts.config import path2\n",
    "from pyscripts.datasets import Metadata, DatasetLoader\n",
    "metadata = Metadata()\n",
    "dloader  = DatasetLoader()"
   ]
  },
  {
   "cell_type": "code",
   "execution_count": 2,
   "id": "fallen-editor",
   "metadata": {},
   "outputs": [
    {
     "data": {
      "application/vnd.jupyter.widget-view+json": {
       "model_id": "ffa1b7bc88da4faaa57e6dbe64710aee",
       "version_major": 2,
       "version_minor": 0
      },
      "text/plain": [
       "  0%|          | 0/2624 [00:00<?, ?it/s]"
      ]
     },
     "metadata": {},
     "output_type": "display_data"
    }
   ],
   "source": [
    "for gcf in tqdm(metadata.acc['refseq']):\n",
    "    SeqIO.write(dloader.load_genome(gcf), path2.data/'genomic_fna'/f'ncbi.{gcf}.fna', 'fasta')\n",
    "    "
   ]
  },
  {
   "cell_type": "code",
   "execution_count": null,
   "id": "egyptian-grace",
   "metadata": {},
   "outputs": [],
   "source": []
  }
 ],
 "metadata": {
  "kernelspec": {
   "display_name": "Python 3",
   "language": "python",
   "name": "python3"
  },
  "language_info": {
   "codemirror_mode": {
    "name": "ipython",
    "version": 3
   },
   "file_extension": ".py",
   "mimetype": "text/x-python",
   "name": "python",
   "nbconvert_exporter": "python",
   "pygments_lexer": "ipython3",
   "version": "3.8.8"
  }
 },
 "nbformat": 4,
 "nbformat_minor": 5
}
