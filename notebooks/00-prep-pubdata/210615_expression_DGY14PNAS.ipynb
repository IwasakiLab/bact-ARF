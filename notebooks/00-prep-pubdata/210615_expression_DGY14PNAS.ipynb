{
 "cells": [
  {
   "cell_type": "markdown",
   "id": "spread-vinyl",
   "metadata": {},
   "source": [
    "# Download expression data of *Staphylococcus aureus*\n",
    "\n",
    "Reference:  \n",
    "Davis A. R., Gohara D. W., Yap M. N. Sequence selectivity of macrolide-induced translational attenuation.\n",
    "Proc Natl Acad Sci U S A ***111*** (2014). doi:[10.1073/pnas.1410356111](https://doi.org/10.1073/pnas.1410356111)\n",
    "\n",
    "- The reference genome (GCF_000013425.1) was downloaded from NCBI ftp server (RefSeq or GenBank) to `data/pubdata/expression/DGY14PNAS/reference`\n",
    "- Raw fastq files were downloaded from EBI ftp server to `data/pubdata/expression/DGY14PNAS/fastq`\n"
   ]
  },
  {
   "cell_type": "code",
   "execution_count": 1,
   "id": "stupid-fault",
   "metadata": {},
   "outputs": [],
   "source": [
    "import gzip\n",
    "import hashlib\n",
    "import pandas as pd\n",
    "import shutil\n",
    "import time\n",
    "import urllib.request \n",
    "from Bio import SeqIO\n",
    "from pyscripts.config import path2\n",
    "from pyscripts.datasets import DatasetDownloader\n",
    "ddownloader = DatasetDownloader()"
   ]
  },
  {
   "cell_type": "code",
   "execution_count": 2,
   "id": "assigned-percentage",
   "metadata": {},
   "outputs": [],
   "source": [
    "refs = pd.read_csv(path2.metadata/'expression'/'DGY14PNAS_refs.tsv', sep='\\t')"
   ]
  },
  {
   "cell_type": "code",
   "execution_count": 3,
   "id": "dress-underground",
   "metadata": {},
   "outputs": [],
   "source": [
    "for ref in refs.itertuples():\n",
    "    # fetch genomes\n",
    "    file_target = path2.pubdata/'expression'/'DGY14PNAS'/'reference'/f'{ref.reference_assembly}.gbff.gz'\n",
    "    ddownloader.fetch_NCBI_genome(ref.ftp_path, file_target)\n",
    "    \n",
    "    # convert GenBank files to FASTA files\n",
    "    with gzip.open(file_target, 'rt') as gbff:\n",
    "        SeqIO.convert(gbff, 'gb', path2.data/'expression'/'DGY14PNAS'/'reference'/f'{ref.reference_assembly}.fna', 'fasta')\n",
    "    time.sleep(1)"
   ]
  },
  {
   "cell_type": "code",
   "execution_count": 4,
   "id": "surprised-bobby",
   "metadata": {},
   "outputs": [],
   "source": [
    "runs = pd.read_csv(path2.metadata/'expression'/'DGY14PNAS_runs.tsv', sep='\\t')"
   ]
  },
  {
   "cell_type": "code",
   "execution_count": 5,
   "id": "proof-courage",
   "metadata": {},
   "outputs": [],
   "source": [
    "# fetch raw reads in fastq format\n",
    "for run in runs.itertuples():\n",
    "    ftp_source  = f'ftp://{run.fastq_ftp}'\n",
    "    file_target = (path2.pubdata/'expression'/'DGY14PNAS'/'fastq'/run.tag).with_suffix('.fastq.gz')\n",
    "    with urllib.request.urlopen(ftp_source) as response, open(file_target, 'wb') as outfile:\n",
    "        shutil.copyfileobj(response, outfile)\n",
    "    with open(file_target, 'rb') as fqfile:\n",
    "        md5sum = hashlib.md5(fqfile.read()).hexdigest() \n",
    "        \n",
    "    assert md5sum == run.fastq_md5\n",
    "    time.sleep(1)\n",
    "    "
   ]
  },
  {
   "cell_type": "code",
   "execution_count": null,
   "id": "helpful-invalid",
   "metadata": {},
   "outputs": [],
   "source": []
  }
 ],
 "metadata": {
  "kernelspec": {
   "display_name": "Python 3",
   "language": "python",
   "name": "python3"
  },
  "language_info": {
   "codemirror_mode": {
    "name": "ipython",
    "version": 3
   },
   "file_extension": ".py",
   "mimetype": "text/x-python",
   "name": "python",
   "nbconvert_exporter": "python",
   "pygments_lexer": "ipython3",
   "version": "3.8.8"
  }
 },
 "nbformat": 4,
 "nbformat_minor": 5
}
