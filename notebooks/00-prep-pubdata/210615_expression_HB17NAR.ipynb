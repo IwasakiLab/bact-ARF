{
 "cells": [
  {
   "cell_type": "markdown",
   "id": "certified-chicago",
   "metadata": {},
   "source": [
    "# Download expression data of *Escherichia coli*\n",
    "\n",
    "Reference:  \n",
    "Hwang, J.-Y. & Buskirk, A. R. A ribosome profiling study of mRNA cleavage by the endonuclease RelE. \n",
    "Nucleic Acids Res ***45***, 1 (2017). doi:[10.1093/nar/gkw944](https://doi.org/10.1093/nar/gkw944)\n",
    "\n",
    "- The reference genome (GCF_000005845.2) was downloaded from NCBI ftp server (RefSeq or GenBank) to `data/pubdata/expression/HB17NAR/reference`\n",
    "- Raw fastq files were downloaded from EBI ftp server to `data/pubdata/expression/HB17NAR/fastq`\n"
   ]
  },
  {
   "cell_type": "code",
   "execution_count": 1,
   "id": "early-desert",
   "metadata": {},
   "outputs": [],
   "source": [
    "import gzip\n",
    "import hashlib\n",
    "import pandas as pd\n",
    "import shutil\n",
    "import time\n",
    "import urllib.request \n",
    "from Bio import SeqIO\n",
    "from pyscripts.config import path2\n",
    "from pyscripts.datasets import DatasetDownloader\n",
    "ddownloader = DatasetDownloader()"
   ]
  },
  {
   "cell_type": "code",
   "execution_count": 2,
   "id": "oriented-kingston",
   "metadata": {},
   "outputs": [],
   "source": [
    "refs = pd.read_csv(path2.metadata/'expression'/'HB17NAR_refs.tsv', sep='\\t')"
   ]
  },
  {
   "cell_type": "code",
   "execution_count": 3,
   "id": "impressive-adoption",
   "metadata": {},
   "outputs": [],
   "source": [
    "for ref in refs.itertuples():\n",
    "    # fetch genomes\n",
    "    file_target = path2.pubdata/'expression'/'HB17NAR'/'reference'/f'{ref.reference_assembly}.gbff.gz'\n",
    "    ddownloader.fetch_NCBI_genome(ref.ftp_path, file_target)\n",
    "    \n",
    "    # convert GenBank files to FASTA files\n",
    "    with gzip.open(file_target, 'rt') as gbff:\n",
    "        SeqIO.convert(gbff, 'gb', path2.data/'expression'/'HB17NAR'/'reference'/f'{ref.reference_assembly}.fna', 'fasta')\n",
    "    time.sleep(1)"
   ]
  },
  {
   "cell_type": "code",
   "execution_count": 4,
   "id": "forty-charles",
   "metadata": {},
   "outputs": [],
   "source": [
    "runs = pd.read_csv(path2.metadata/'expression'/'HB17NAR_runs.tsv', sep='\\t')"
   ]
  },
  {
   "cell_type": "code",
   "execution_count": 5,
   "id": "hired-fountain",
   "metadata": {},
   "outputs": [],
   "source": [
    "# fetch raw reads in fastq format\n",
    "for run in runs.itertuples():\n",
    "    ftp_source  = f'ftp://{run.fastq_ftp}'\n",
    "    file_target = (path2.pubdata/'expression'/'HB17NAR'/'fastq'/run.tag).with_suffix('.fastq.gz')\n",
    "    with urllib.request.urlopen(ftp_source) as response, open(file_target, 'wb') as outfile:\n",
    "        shutil.copyfileobj(response, outfile)\n",
    "    with open(file_target, 'rb') as fqfile:\n",
    "        md5sum = hashlib.md5(fqfile.read()).hexdigest() \n",
    "        \n",
    "    assert md5sum == run.fastq_md5\n",
    "    time.sleep(1)\n",
    "    "
   ]
  },
  {
   "cell_type": "code",
   "execution_count": null,
   "id": "arbitrary-advantage",
   "metadata": {},
   "outputs": [],
   "source": []
  }
 ],
 "metadata": {
  "kernelspec": {
   "display_name": "Python 3",
   "language": "python",
   "name": "python3"
  },
  "language_info": {
   "codemirror_mode": {
    "name": "ipython",
    "version": 3
   },
   "file_extension": ".py",
   "mimetype": "text/x-python",
   "name": "python",
   "nbconvert_exporter": "python",
   "pygments_lexer": "ipython3",
   "version": "3.8.8"
  }
 },
 "nbformat": 4,
 "nbformat_minor": 5
}
