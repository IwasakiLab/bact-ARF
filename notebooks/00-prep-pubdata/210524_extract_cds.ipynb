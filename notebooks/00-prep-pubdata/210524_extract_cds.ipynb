{
 "cells": [
  {
   "cell_type": "markdown",
   "id": "alleged-philadelphia",
   "metadata": {},
   "source": [
    "# Extract DNA sequences of CDSs and their translations"
   ]
  },
  {
   "cell_type": "code",
   "execution_count": 1,
   "id": "alleged-tennessee",
   "metadata": {},
   "outputs": [],
   "source": [
    "from Bio import SeqIO\n",
    "from Bio.Seq import Seq\n",
    "from Bio.SeqRecord import SeqRecord\n",
    "from tqdm.notebook import tqdm\n",
    "from pyscripts.config import path2\n",
    "from pyscripts.datasets import Metadata, DatasetLoader\n",
    "metadata = Metadata()\n",
    "dloader  = DatasetLoader()"
   ]
  },
  {
   "cell_type": "code",
   "execution_count": 2,
   "id": "standing-continuity",
   "metadata": {},
   "outputs": [
    {
     "data": {
      "application/vnd.jupyter.widget-view+json": {
       "model_id": "e1bd567be05e44c3b4c71dd38cfe7d8e",
       "version_major": 2,
       "version_minor": 0
      },
      "text/plain": [
       "  0%|          | 0/2624 [00:00<?, ?it/s]"
      ]
     },
     "metadata": {},
     "output_type": "display_data"
    }
   ],
   "source": [
    "def extract_cds(gcf):\n",
    "    nucl, prot = [], []\n",
    "    for rec in dloader.load_genome(gcf):\n",
    "        for cds in filter(lambda feat: feat.type == 'CDS', rec.features):\n",
    "            if (transl := cds.qualifiers.get('translation')) is not None:\n",
    "                tag = cds.qualifiers['locus_tag'][0]\n",
    "                header = dict(id=tag, name=tag, description=tag)\n",
    "                nucl.append(SeqRecord(cds.location.extract(rec.seq), **header))\n",
    "                prot.append(SeqRecord(Seq(transl[0]), **header))\n",
    "    return nucl, prot\n",
    "\n",
    "for gcf in tqdm(metadata.acc['refseq']):\n",
    "    nucl, prot = extract_cds(gcf)\n",
    "    SeqIO.write(nucl, path2.data/'cds_nucl'/f'{gcf}.fna', 'fasta')\n",
    "    SeqIO.write(prot, path2.data/'cds_prot'/f'{gcf}.faa', 'fasta')\n",
    "    "
   ]
  },
  {
   "cell_type": "code",
   "execution_count": null,
   "id": "amino-observation",
   "metadata": {},
   "outputs": [],
   "source": []
  }
 ],
 "metadata": {
  "kernelspec": {
   "display_name": "Python 3",
   "language": "python",
   "name": "python3"
  },
  "language_info": {
   "codemirror_mode": {
    "name": "ipython",
    "version": 3
   },
   "file_extension": ".py",
   "mimetype": "text/x-python",
   "name": "python",
   "nbconvert_exporter": "python",
   "pygments_lexer": "ipython3",
   "version": "3.8.8"
  }
 },
 "nbformat": 4,
 "nbformat_minor": 5
}
