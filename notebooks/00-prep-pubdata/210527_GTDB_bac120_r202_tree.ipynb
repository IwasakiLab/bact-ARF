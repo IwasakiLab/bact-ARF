{
 "cells": [
  {
   "cell_type": "markdown",
   "id": "municipal-greenhouse",
   "metadata": {},
   "source": [
    "# GTDB bac120 tree (release 202)\n",
    "\n",
    "to sort bacterial genomes in an order that reflects the phylogenetic relationship."
   ]
  },
  {
   "cell_type": "code",
   "execution_count": 1,
   "id": "grateful-jerusalem",
   "metadata": {},
   "outputs": [],
   "source": [
    "import urllib\n",
    "import shutil\n",
    "import ete3\n",
    "import pandas as pd\n",
    "from pyscripts.config import path2"
   ]
  },
  {
   "cell_type": "code",
   "execution_count": 2,
   "id": "aboriginal-annual",
   "metadata": {},
   "outputs": [],
   "source": [
    "ftp_source  = 'https://data.ace.uq.edu.au/public/gtdb/data/releases/release202/202.0/bac120_r202.tree'\n",
    "file_target = path2.metadata/'bac120_r202.tree'\n",
    "\n",
    "with urllib.request.urlopen(ftp_source) as response, open(file_target, 'wb') as outfile:\n",
    "    shutil.copyfileobj(response, outfile)"
   ]
  },
  {
   "cell_type": "code",
   "execution_count": 3,
   "id": "local-tender",
   "metadata": {},
   "outputs": [
    {
     "data": {
      "text/plain": [
       "45555"
      ]
     },
     "execution_count": 3,
     "metadata": {},
     "output_type": "execute_result"
    }
   ],
   "source": [
    "bac120_r202_tree = ete3.Tree(str(file_target), format=1, quoted_node_names=True)\n",
    "\n",
    "# The colon-separated support values and node names (GTDB taxonomy) are loaded into the member variable 'name'.\n",
    "# This can be fixed as follows:\n",
    "for node in bac120_r202_tree.traverse():\n",
    "    if node.is_leaf() or node.is_root(): continue\n",
    "    # Divide by 100 to normalize the support value to fall between 0~1\n",
    "    node.support = float(node.name.split(':', 1)[0]) / 100\n",
    "    # Update node names (if any). Remove spaces in the taxon separator.\n",
    "    node.name = (node.name.split(':', 1)[1]).replace('; ', ';') if ':' in node.name else ''\n",
    "    \n",
    "bac120_r202_tree.ladderize()"
   ]
  },
  {
   "cell_type": "code",
   "execution_count": 4,
   "id": "surprising-tennessee",
   "metadata": {
    "tags": []
   },
   "outputs": [],
   "source": [
    "pd.to_pickle(bac120_r202_tree, path2.metadata/'bac120_r202.tree.pkl.bz2')"
   ]
  },
  {
   "cell_type": "code",
   "execution_count": null,
   "id": "purple-russian",
   "metadata": {},
   "outputs": [],
   "source": []
  }
 ],
 "metadata": {
  "kernelspec": {
   "display_name": "Python 3",
   "language": "python",
   "name": "python3"
  },
  "language_info": {
   "codemirror_mode": {
    "name": "ipython",
    "version": 3
   },
   "file_extension": ".py",
   "mimetype": "text/x-python",
   "name": "python",
   "nbconvert_exporter": "python",
   "pygments_lexer": "ipython3",
   "version": "3.8.8"
  }
 },
 "nbformat": 4,
 "nbformat_minor": 5
}
