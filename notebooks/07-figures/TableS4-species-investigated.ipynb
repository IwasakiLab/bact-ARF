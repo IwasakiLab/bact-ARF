{
 "cells": [
  {
   "cell_type": "markdown",
   "id": "musical-equity",
   "metadata": {},
   "source": [
    "# Supplemental Table S4"
   ]
  },
  {
   "cell_type": "code",
   "execution_count": 3,
   "id": "seventh-steal",
   "metadata": {},
   "outputs": [],
   "source": [
    "import pandas as pd\n",
    "from pyscripts.datasets import Metadata\n",
    "\n",
    "metadata = Metadata()"
   ]
  },
  {
   "cell_type": "code",
   "execution_count": 5,
   "id": "bottom-cardiff",
   "metadata": {},
   "outputs": [],
   "source": [
    "table_s4 = pd.concat([\n",
    "    pd.merge(\n",
    "        metadata.acc.rename({'refseq': 'NCBI accession', 'gtdbrep': 'GTDB accession'}, axis=1),\n",
    "        (metadata.tax_inuse['GTDB taxonomy'] + ';' + metadata.tax_inuse['GTDB species']).rename('GTDB taxonomy').reset_index(),\n",
    "        left_on='GTDB accession', right_on='Representative genome'\n",
    "    ).drop('Representative genome', axis=1).set_index('NCBI accession'),\n",
    "    metadata.asm_inuse['ftp_path'].rename('NCBI FTP path').rename_axis('NCBI accession')\n",
    "], axis=1)"
   ]
  },
  {
   "cell_type": "code",
   "execution_count": 6,
   "id": "british-hacker",
   "metadata": {},
   "outputs": [],
   "source": [
    "table_s4.to_csv('TableS4.csv')"
   ]
  },
  {
   "cell_type": "code",
   "execution_count": null,
   "id": "demonstrated-volume",
   "metadata": {},
   "outputs": [],
   "source": []
  }
 ],
 "metadata": {
  "kernelspec": {
   "display_name": "Python 3",
   "language": "python",
   "name": "python3"
  },
  "language_info": {
   "codemirror_mode": {
    "name": "ipython",
    "version": 3
   },
   "file_extension": ".py",
   "mimetype": "text/x-python",
   "name": "python",
   "nbconvert_exporter": "python",
   "pygments_lexer": "ipython3",
   "version": "3.8.8"
  }
 },
 "nbformat": 4,
 "nbformat_minor": 5
}
