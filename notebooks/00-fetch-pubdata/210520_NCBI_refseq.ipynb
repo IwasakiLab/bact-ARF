{
 "cells": [
  {
   "cell_type": "code",
   "execution_count": 1,
   "id": "brilliant-walnut",
   "metadata": {},
   "outputs": [],
   "source": [
    "import datetime\n",
    "import gzip\n",
    "import pandas as pd\n",
    "import shutil\n",
    "import time\n",
    "import urllib.request\n",
    "from Bio import SeqIO\n",
    "from tqdm.notebook import tqdm\n",
    "from pyscripts.config import path2\n",
    "from pyscripts.datasets import DatasetDownloader"
   ]
  },
  {
   "cell_type": "code",
   "execution_count": 2,
   "id": "previous-senate",
   "metadata": {},
   "outputs": [
    {
     "name": "stdout",
     "output_type": "stream",
     "text": [
      "2021-05-20\n"
     ]
    }
   ],
   "source": [
    "today = datetime.date.today()\n",
    "genome_dir = path2.pubdata/'genomic_gbff'\n",
    "\n",
    "print(today)"
   ]
  },
  {
   "cell_type": "code",
   "execution_count": 3,
   "id": "second-anderson",
   "metadata": {},
   "outputs": [],
   "source": [
    "# Get assembly summary\n",
    "ftp_source  = 'ftp://ftp.ncbi.nlm.nih.gov/genomes/refseq/bacteria/assembly_summary.txt'\n",
    "file_target = path2.metadata/f'NCBI_refseq_bacteria_assembly_summary_{today.strftime(\"%y%m%d\")}.txt'\n",
    "\n",
    "with urllib.request.urlopen(ftp_source) as response, open(file_target, 'wb') as outfile:\n",
    "    shutil.copyfileobj(response, outfile)\n",
    "#=> set \n",
    "\n",
    "assembly_summary = pd.read_csv(file_target, sep='\\t', skiprows=1, converters={'excluded_from_refseq': str}, index_col=0)\n"
   ]
  },
  {
   "cell_type": "code",
   "execution_count": 4,
   "id": "increased-republican",
   "metadata": {},
   "outputs": [],
   "source": [
    "# Filter 1: based on assembly status\n",
    "asm_filtered = assembly_summary[\n",
    "    (assembly_summary['refseq_category'].isin({'representative genome', 'reference genome'})) &\n",
    "    (assembly_summary['version_status'] == 'latest') &\n",
    "    (assembly_summary['genome_rep']     == 'Full') &\n",
    "    (assembly_summary['assembly_level'] == 'Complete Genome') &\n",
    "    (assembly_summary['excluded_from_refseq'] == '') \n",
    "]"
   ]
  },
  {
   "cell_type": "code",
   "execution_count": 5,
   "id": "headed-highlight",
   "metadata": {},
   "outputs": [],
   "source": [
    "# Get GTDB r202 species clusters\n",
    "ftp_source  = 'https://data.gtdb.ecogenomic.org/releases/release202/202.0/auxillary_files/sp_clusters_r202.tsv'\n",
    "file_target = path2.metadata/f'GTDB_sp_clusters_r202.tsv'\n",
    "\n",
    "with urllib.request.urlopen(ftp_source) as response, open(file_target, 'wb') as outfile:\n",
    "    shutil.copyfileobj(response, outfile)\n",
    "\n",
    "sp_clst = pd.read_csv(file_target, sep='\\t', index_col=0)#, usecols=[0,9], squeeze=True)\n"
   ]
  },
  {
   "cell_type": "code",
   "execution_count": 6,
   "id": "directed-officer",
   "metadata": {},
   "outputs": [
    {
     "data": {
      "application/vnd.jupyter.widget-view+json": {
       "model_id": "82a4384c436441cda591666b4a745769",
       "version_major": 2,
       "version_minor": 0
      },
      "text/plain": [
       "0it [00:00, ?it/s]"
      ]
     },
     "metadata": {},
     "output_type": "display_data"
    }
   ],
   "source": [
    "# Filter 2: Phylogenetic classification is described in GTDB\n",
    "\n",
    "tmp = sp_clst['Clustered genomes'].apply(lambda l: l.split(','))\n",
    "refseq2gtdbrep = pd.Series({\n",
    "    gcf: \n",
    "    hit.idxmax()\n",
    "    if (hit := tmp.apply(lambda l: (f'RS_{gcf}' in l) or (f'GB_{gca}' in l))).any() else\n",
    "    None\n",
    "    for gcf, gca in tqdm(asm_filtered['gbrs_paired_asm'].items())\n",
    "})\n",
    "del tmp\n",
    "\n",
    "gtdbrep2refseq = pd.Series({}, dtype=object)\n",
    "for gtdb_rep, ncbi_genomes in refseq2gtdbrep.groupby(refseq2gtdbrep):\n",
    "    for gcf in ncbi_genomes.index:\n",
    "        if gtdb_rep[6:] == gcf[3:]:\n",
    "            gtdbrep2refseq[gtdb_rep] = gcf\n",
    "            break\n",
    "    else:\n",
    "        gtdbrep2refseq[gtdb_rep] = ncbi_genomes.index[0]\n"
   ]
  },
  {
   "cell_type": "code",
   "execution_count": 7,
   "id": "listed-entrance",
   "metadata": {},
   "outputs": [],
   "source": [
    "dd = DatasetDownloader()"
   ]
  },
  {
   "cell_type": "code",
   "execution_count": 8,
   "id": "clean-wings",
   "metadata": {},
   "outputs": [],
   "source": [
    "# Filter 3: genetic code\n",
    "def has_genetic_code_11(file_to_save):\n",
    "    with gzip.open(file_to_save, 'rt') as genome_decomp:\n",
    "        is11 = all([\n",
    "            feat.qualifiers.get('transl_table') == ['11']\n",
    "            for rec in SeqIO.parse(genome_decomp, 'gb')\n",
    "            for feat in rec.features\n",
    "            if feat.type == 'CDS'\n",
    "        ])\n",
    "    return is11"
   ]
  },
  {
   "cell_type": "code",
   "execution_count": 9,
   "id": "virtual-cartridge",
   "metadata": {},
   "outputs": [
    {
     "data": {
      "application/vnd.jupyter.widget-view+json": {
       "model_id": "c6d39e94e0ea480791ba7c66a0b3c631",
       "version_major": 2,
       "version_minor": 0
      },
      "text/plain": [
       "0it [00:00, ?it/s]"
      ]
     },
     "metadata": {},
     "output_type": "display_data"
    }
   ],
   "source": [
    "included_genomes = []\n",
    "    \n",
    "for gcf, ftp_path in tqdm(asm_filtered.loc[gtdbrep2refseq.values, 'ftp_path'].items()):\n",
    "    file_to_save = genome_dir/f'{gcf}.gbff.gz'\n",
    "    dd.fetch_NCBI_genome(ftp_path, file_to_save)\n",
    "    if has_genetic_code_11(file_to_save):\n",
    "        included_genomes.append(gcf)\n",
    "    else:\n",
    "        file_to_save.unlink()\n",
    "    \n",
    "    time.sleep(0.5)\n"
   ]
  },
  {
   "cell_type": "code",
   "execution_count": 38,
   "id": "favorite-cheat",
   "metadata": {},
   "outputs": [
    {
     "name": "stdout",
     "output_type": "stream",
     "text": [
      "2624\n"
     ]
    }
   ],
   "source": [
    "assert refseq2gtdbrep.loc[included_genomes].rename_axis('refseq').rename('gtdbrep').to_dict() == \\\n",
    "       gtdbrep2refseq[gtdbrep2refseq.isin(included_genomes)].rename('refseq').rename_axis('gtdbrep').reset_index().set_index('refseq')['gtdbrep'].to_dict()\n",
    "\n",
    "print(len(included_genomes))\n"
   ]
  },
  {
   "cell_type": "code",
   "execution_count": 44,
   "id": "polish-wings",
   "metadata": {},
   "outputs": [],
   "source": [
    "refseq2gtdbrep.loc[included_genomes].rename_axis('refseq').rename('gtdbrep').reset_index().to_pickle(\n",
    "    path2.metadata/'refseq_gtdbrep_mappings.pkl.bz2'\n",
    ")\n",
    "\n",
    "sp_clst.loc[refseq2gtdbrep[included_genomes]].to_pickle(\n",
    "    path2.metadata/'GTDB_taxonomy_inuse.pkl.bz2'\n",
    ")\n",
    "\n",
    "asm_filtered.loc[included_genomes].to_pickle(\n",
    "    path2.metadata/'NCBI_asm_inuse.pkl.bz2'\n",
    ")\n"
   ]
  },
  {
   "cell_type": "code",
   "execution_count": null,
   "id": "promising-european",
   "metadata": {},
   "outputs": [],
   "source": []
  }
 ],
 "metadata": {
  "kernelspec": {
   "display_name": "Python 3",
   "language": "python",
   "name": "python3"
  },
  "language_info": {
   "codemirror_mode": {
    "name": "ipython",
    "version": 3
   },
   "file_extension": ".py",
   "mimetype": "text/x-python",
   "name": "python",
   "nbconvert_exporter": "python",
   "pygments_lexer": "ipython3",
   "version": "3.8.8"
  }
 },
 "nbformat": 4,
 "nbformat_minor": 5
}
