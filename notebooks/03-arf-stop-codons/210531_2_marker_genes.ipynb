{
 "cells": [
  {
   "cell_type": "markdown",
   "id": "vital-concrete",
   "metadata": {},
   "source": [
    "# ARF stop codon bias for core genes (supplementary)"
   ]
  },
  {
   "cell_type": "markdown",
   "id": "adverse-toyota",
   "metadata": {},
   "source": [
    "To identify core genes, gtdbtk (v1.5.0) was used.\n",
    "\n",
    "Reference database was downloaded as follows:\n",
    "\n",
    "```{bash}\n",
    "# on May. 24, 2021, at /nfs_share/yamanouchi/gtdb\n",
    "wget https://data.gtdb.ecogenomic.org/releases/release202/202.0/auxillary_files/gtdbtk_r202_data.tar.gz\n",
    "tar xvzf gtdbtk_r202_data.tar.gz\n",
    "rm gtdbtk_r202_data.tar.gz\n",
    "```\n",
    "\n",
    "`gtdbtk identify` was performed under the following configurations (on May. 31, 2021):\n",
    "\n",
    "```{bash}\n",
    "docker-compose run --rm gtdbtk identify --genome_dir /data/genomic_fna --out_dir /data/gtdbtk --cpus 100\n",
    "```\n",
    "\n",
    "- docker-compose.yml (partial)\n",
    "    ```\n",
    "    gtdbtk:\n",
    "    image: ecogenomic/gtdbtk:1.5.0\n",
    "    volumes:\n",
    "      - ./data:/data\n",
    "      - /nfs_share/yamanouchi/gtdb/release202:/refdata\n",
    "    ```\n"
   ]
  },
  {
   "cell_type": "code",
   "execution_count": 1,
   "id": "relative-statement",
   "metadata": {},
   "outputs": [],
   "source": [
    "import numpy as np\n",
    "import pandas as pd\n",
    "from Bio import SeqIO\n",
    "from Bio.Seq import reverse_complement\n",
    "from collections import Counter\n",
    "from itertools import product\n",
    "from tqdm.notebook import tqdm\n",
    "from pyscripts.config import path2\n",
    "from pyscripts.genomeutil import sliding, bac_translate"
   ]
  },
  {
   "cell_type": "code",
   "execution_count": 2,
   "id": "played-checklist",
   "metadata": {},
   "outputs": [],
   "source": [
    "# no error\n",
    "!cat $path2.data/gtdbtk/gtdbtk.failed_genomes.tsv"
   ]
  },
  {
   "cell_type": "code",
   "execution_count": 3,
   "id": "certified-thermal",
   "metadata": {},
   "outputs": [],
   "source": [
    "markers_summary = pd.read_csv(\n",
    "    path2.data/'gtdbtk'/'gtdbtk.bac120.markers_summary.tsv', \n",
    "    sep='\\t', index_col=0\n",
    ")"
   ]
  },
  {
   "cell_type": "code",
   "execution_count": 4,
   "id": "rough-residence",
   "metadata": {
    "tags": []
   },
   "outputs": [],
   "source": [
    "path2markers = path2.data/'gtdbtk'/'identify'/'intermediate_results'/'marker_genes'\n",
    "\n",
    "def get_tophits(ncbi_gcf):\n",
    "    tophits = pd.concat([\n",
    "        pd.read_csv(path2markers/ncbi_gcf/f'{ncbi_gcf}_pfam_tophit.tsv',sep='\\t'),\n",
    "        pd.read_csv(path2markers/ncbi_gcf/f'{ncbi_gcf}_tigrfam_tophit.tsv',sep='\\t')\n",
    "    ])\n",
    "    tophits = pd.concat([\n",
    "        tophits['Gene Id'],\n",
    "        tophits['Top hits (Family id,e-value,bitscore)'].str.split(',', expand=True),\n",
    "    ], axis=1).rename({'Gene Id':'gene_id', 0:'family_id', 1:'evalue', 2:'bitscore'}, axis=1).set_index(['family_id', 'gene_id'])\n",
    "    return tophits\n"
   ]
  },
  {
   "cell_type": "code",
   "execution_count": 5,
   "id": "lyric-steering",
   "metadata": {},
   "outputs": [],
   "source": [
    "fill_list = lambda d: d if type(d) is list else []\n",
    "markers_lists = markers_summary['list_unique_genes'].str.split(',').apply(fill_list) + \\\n",
    "               markers_summary['list_multiple_genes'].str.split(',').apply(fill_list) + \\\n",
    "               markers_summary['list_multiple_unique_genes'].str.split(',').apply(fill_list)"
   ]
  },
  {
   "cell_type": "markdown",
   "id": "intellectual-steering",
   "metadata": {},
   "source": [
    "For the CDSs annotated by Prodigal inside gtdbtk, we calculated the bias of the ARF stop codon in the same way as in the main analysis, except that overlap was not taken into account."
   ]
  },
  {
   "cell_type": "code",
   "execution_count": 6,
   "id": "endless-destiny",
   "metadata": {
    "tags": []
   },
   "outputs": [],
   "source": [
    "codon_idx   = [*map(''.join, product('ACGT', repeat=3))]\n",
    "bicodon_idx = [*map(''.join, product('ACGT', repeat=6))]\n",
    " \n",
    "def count_freqs_markers(ncbi_gcf):\n",
    "    tophits  = get_tophits(ncbi_gcf)\n",
    "    families = markers_lists[ncbi_gcf]\n",
    "    bac120   = set(tophits.loc[families].index.get_level_values(1))\n",
    "    \n",
    "    bac120_codons   = pd.DataFrame(index=codon_idx, dtype=pd.Int32Dtype())\n",
    "    bac120_bicodons = pd.DataFrame(index=bicodon_idx, dtype=pd.Int32Dtype())\n",
    "    all_codons   = pd.DataFrame(index=codon_idx, dtype=pd.Int32Dtype())\n",
    "    all_bicodons = pd.DataFrame(index=bicodon_idx, dtype=pd.Int32Dtype())\n",
    "    \n",
    "    for rec in SeqIO.parse(path2markers/ncbi_gcf/f'{ncbi_gcf}_protein.fna', 'fasta'):\n",
    "        if rec.id in bac120:\n",
    "            bac120_codons[rec.id]   = pd.Series(Counter(sliding(str(rec.seq), 3, 3)), dtype=pd.Int32Dtype())\n",
    "            bac120_bicodons[rec.id] = pd.Series(Counter(sliding(str(rec.seq), 6, 3)), dtype=pd.Int32Dtype())\n",
    "        all_codons[rec.id]   = pd.Series(Counter(sliding(str(rec.seq), 3, 3)), dtype=pd.Int32Dtype())\n",
    "        all_bicodons[rec.id] = pd.Series(Counter(sliding(str(rec.seq), 6, 3)), dtype=pd.Int32Dtype())\n",
    "\n",
    "    return ncbi_gcf[5:], (bac120_codons.T.sum(), bac120_bicodons.T.sum()), (all_codons.T.sum(), all_bicodons.T.sum())\n"
   ]
  },
  {
   "cell_type": "code",
   "execution_count": 7,
   "id": "eleven-coach",
   "metadata": {},
   "outputs": [
    {
     "data": {
      "application/vnd.jupyter.widget-view+json": {
       "model_id": "2e51e1942646448c905b35bdecd49181",
       "version_major": 2,
       "version_minor": 0
      },
      "text/plain": [
       "  0%|          | 0/2624 [00:00<?, ?it/s]"
      ]
     },
     "metadata": {},
     "output_type": "display_data"
    }
   ],
   "source": [
    "bac120_codons_summary   = pd.DataFrame(index=codon_idx  , dtype=pd.Int32Dtype())\n",
    "bac120_bicodons_summary = pd.DataFrame(index=bicodon_idx, dtype=pd.Int32Dtype())\n",
    "all_codons_summary   = pd.DataFrame(index=codon_idx  , dtype=pd.Int32Dtype())\n",
    "all_bicodons_summary = pd.DataFrame(index=bicodon_idx, dtype=pd.Int32Dtype())\n",
    "\n",
    "from multiprocessing import Pool\n",
    "\n",
    "with Pool(100) as pool:\n",
    "    for acc, (bac120_codons, bac120_bicodons), (all_codons, all_bicodons) in tqdm(\n",
    "        pool.imap_unordered(count_freqs_markers, markers_lists.index),\n",
    "        total=len(markers_summary)\n",
    "    ):\n",
    "        bac120_codons_summary[acc]   = bac120_codons\n",
    "        bac120_bicodons_summary[acc] = bac120_bicodons\n",
    "        all_codons_summary[acc]      = all_codons\n",
    "        all_bicodons_summary[acc]    = all_bicodons\n",
    "    "
   ]
  },
  {
   "cell_type": "code",
   "execution_count": 8,
   "id": "painted-valve",
   "metadata": {},
   "outputs": [],
   "source": [
    "bac120_codon_usage  = bac120_codons_summary / bac120_codons_summary.groupby(bac_translate).transform('sum')\n",
    "obs_bac120_bicodons = bac120_bicodons_summary\n",
    "exp_bac120_bicodons = bac120_bicodons_summary.groupby(bac_translate).transform('sum') \\\n",
    "                       * bac120_bicodons_summary.index.to_series().str[:3].apply(lambda c: bac120_codon_usage.loc[c]) \\\n",
    "                       * bac120_bicodons_summary.index.to_series().str[3:].apply(lambda c: bac120_codon_usage.loc[c])\n",
    "\n",
    "all_codon_usage  = all_codons_summary / all_codons_summary.groupby(bac_translate).transform('sum')\n",
    "obs_all_bicodons = all_bicodons_summary\n",
    "exp_all_bicodons = all_bicodons_summary.groupby(bac_translate).transform('sum') \\\n",
    "                    * all_bicodons_summary.index.to_series().str[:3].apply(lambda c: all_codon_usage.loc[c]) \\\n",
    "                    * all_bicodons_summary.index.to_series().str[3:].apply(lambda c: all_codon_usage.loc[c])"
   ]
  },
  {
   "cell_type": "code",
   "execution_count": 9,
   "id": "indoor-sunday",
   "metadata": {},
   "outputs": [],
   "source": [
    "fw1 = lambda bc: bac_translate(bc[1:4])\n",
    "fw2 = lambda bc: bac_translate(bc[2:5])\n",
    "rc1 = lambda bc: bac_translate(reverse_complement(bc[1:4]))\n",
    "rc2 = lambda bc: bac_translate(reverse_complement(bc[2:5]))"
   ]
  },
  {
   "cell_type": "code",
   "execution_count": 10,
   "id": "stone-edward",
   "metadata": {},
   "outputs": [],
   "source": [
    "# corrected on Sep. 7, 2021\n",
    "Z_stop_bac120, Z_stop_all = pd.DataFrame(dtype=float), pd.DataFrame(dtype=float)\n",
    "# d_stop_bac120, d_stop_all = pd.DataFrame(dtype=float), pd.DataFrame(dtype=float)\n",
    "\n",
    "for frame, arf in zip(['+1','+2','-1','-2'], [fw1, fw2, rc1, rc2]):\n",
    "    obs_bac120_aa = obs_bac120_bicodons.groupby(arf).sum()\n",
    "    exp_bac120_aa = exp_bac120_bicodons.groupby(arf).sum()\n",
    "    assert np.isclose(obs_bac120_aa.sum(), exp_bac120_aa.sum()).all()\n",
    "    N_bac120 = exp_bac120_aa.sum()\n",
    "    obs_bac120_stop, exp_bac120_stop = obs_bac120_aa.loc['*'] / N_bac120, exp_bac120_aa.loc['*'] / N_bac120\n",
    "    Z_stop_bac120[frame] = (obs_bac120_stop - exp_bac120_stop) / np.sqrt((exp_bac120_stop - exp_bac120_stop ** 2) / (N_bac120 - 1))\n",
    "    # d_stop_bac120[frame] = (obs_bac120_stop - exp_bac120_stop) \n",
    "    \n",
    "    obs_all_aa = obs_all_bicodons.groupby(arf).sum()\n",
    "    exp_all_aa = exp_all_bicodons.groupby(arf).sum()\n",
    "    assert np.isclose(obs_all_aa.sum(), exp_all_aa.sum()).all()\n",
    "    N_all = exp_all_aa.sum()\n",
    "    obs_all_stop, exp_all_stop = obs_all_aa.loc['*'] / N_all, exp_all_aa.loc['*'] / N_all\n",
    "    Z_stop_all[frame] = (obs_all_stop - exp_all_stop) / np.sqrt((exp_all_stop - exp_all_stop ** 2) / (N_all - 1))\n",
    "    # d_stop_all[frame] = (obs_all_stop - exp_all_stop) \n",
    "    \n",
    "pd.to_pickle(\n",
    "    {'Z_stop_all': Z_stop_all, 'Z_stop_bac120': Z_stop_bac120}, \n",
    "    path2.data/'marker-genes-Z.pkl.bz2'\n",
    ")"
   ]
  },
  {
   "cell_type": "code",
   "execution_count": null,
   "id": "essential-defensive",
   "metadata": {},
   "outputs": [],
   "source": []
  },
  {
   "cell_type": "markdown",
   "id": "mobile-monitoring",
   "metadata": {},
   "source": [
    "Figures S2 is generated in [this notebook](../07-figures/FigS2-supp-marker-genes.ipynb)"
   ]
  },
  {
   "cell_type": "code",
   "execution_count": null,
   "id": "bridal-scale",
   "metadata": {},
   "outputs": [],
   "source": []
  }
 ],
 "metadata": {
  "kernelspec": {
   "display_name": "Python 3",
   "language": "python",
   "name": "python3"
  },
  "language_info": {
   "codemirror_mode": {
    "name": "ipython",
    "version": 3
   },
   "file_extension": ".py",
   "mimetype": "text/x-python",
   "name": "python",
   "nbconvert_exporter": "python",
   "pygments_lexer": "ipython3",
   "version": "3.8.8"
  }
 },
 "nbformat": 4,
 "nbformat_minor": 5
}
