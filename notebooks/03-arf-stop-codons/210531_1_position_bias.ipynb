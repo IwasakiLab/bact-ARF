{
 "cells": [
  {
   "cell_type": "markdown",
   "id": "lucky-anthony",
   "metadata": {},
   "source": [
    "# ARF bias considering positional dependency"
   ]
  },
  {
   "cell_type": "code",
   "execution_count": 1,
   "id": "eight-strand",
   "metadata": {},
   "outputs": [],
   "source": [
    "import numpy as np\n",
    "import pandas as pd\n",
    "from Bio.Seq import reverse_complement\n",
    "from collections import Counter\n",
    "from itertools import product\n",
    "from tqdm.notebook import tqdm\n",
    "from pyscripts.config import path2\n",
    "from pyscripts.datasets import DatasetLoader, Metadata\n",
    "from pyscripts.genomeutil import is_regular, sliding, bac_translate\n",
    "metadata = Metadata()\n",
    "dloader = DatasetLoader()"
   ]
  },
  {
   "cell_type": "code",
   "execution_count": 2,
   "id": "competent-three",
   "metadata": {},
   "outputs": [],
   "source": [
    "fw1 = lambda bc: bac_translate(bc[1:4])\n",
    "fw2 = lambda bc: bac_translate(bc[2:5])\n",
    "rc1 = lambda bc: bac_translate(reverse_complement(bc[1:4]))\n",
    "rc2 = lambda bc: bac_translate(reverse_complement(bc[2:5]))"
   ]
  },
  {
   "cell_type": "code",
   "execution_count": 3,
   "id": "genuine-category",
   "metadata": {},
   "outputs": [],
   "source": [
    "codon_idx = [*map(''.join, product('ACGT', repeat=3))]\n",
    "bicodon_idx = [*map(''.join, product('ACGT', repeat=6))]"
   ]
  },
  {
   "cell_type": "code",
   "execution_count": 4,
   "id": "sharp-leeds",
   "metadata": {},
   "outputs": [],
   "source": [
    "def count_freqs_bin(gcf, nbins=10):\n",
    "    rec = max(dloader.load_genome(gcf), key=len)\n",
    "    genome_seq = str(rec.seq)\n",
    "    cds_seqs = [\n",
    "        cds.location.extract(genome_seq)[3:-3] # drop start/stop codons\n",
    "        for cds in filter(lambda feat: feat.type=='CDS', rec.features)\n",
    "        if is_regular(cds, rec)\n",
    "    ]\n",
    "    len_distr = pd.Series([len(seq) // 3 for seq in cds_seqs])\n",
    "    cum_residues = len_distr.value_counts().sort_index(ascending=False).cumsum().reindex(range(1, len_distr.max()+1), method='pad').cumsum()    \n",
    "    total = len_distr.sum()\n",
    "    thresh = [\n",
    "        (cum_residues >= total * b).idxmax() * 3\n",
    "        for b in np.linspace(0, 1, nbins+1)[1:]\n",
    "    ]\n",
    "    binned_codons = pd.DataFrame({\n",
    "        f'#{bin_id}':\n",
    "        pd.Series(\n",
    "            Counter(cd for seq in cds_seqs for cd in sliding(seq[lb:ub], 3, 3)),\n",
    "            index=codon_idx, dtype=pd.Int32Dtype()\n",
    "        )\n",
    "        for bin_id, (lb, ub) in enumerate(zip([0]+thresh, thresh), start=1)\n",
    "    }, index=codon_idx, dtype=pd.Int32Dtype())\n",
    "    \n",
    "    binned_bicodons = pd.DataFrame({\n",
    "        f'#{bin_id}':\n",
    "        pd.Series(\n",
    "            Counter(cd for seq in cds_seqs for cd in sliding(seq[lb:ub], 6, 3)),\n",
    "            index=bicodon_idx, dtype=pd.Int32Dtype()\n",
    "        )\n",
    "        for bin_id, (lb, ub) in enumerate(zip([0]+thresh, thresh), start=1)\n",
    "    }, index=bicodon_idx, dtype=pd.Int32Dtype())\n",
    "    \n",
    "    return gcf, binned_codons, binned_bicodons\n"
   ]
  },
  {
   "cell_type": "code",
   "execution_count": 5,
   "id": "streaming-princess",
   "metadata": {},
   "outputs": [],
   "source": [
    "# corrected on Sep. 7, 2021\n",
    "def calc_Z_stop(obs_codons, obs_bicodons):\n",
    "    codon_usage = (obs_codons / obs_codons.groupby(bac_translate).transform('sum')).fillna(0)\n",
    "    exp_bicodons = obs_bicodons.groupby(bac_translate).transform('sum') \\\n",
    "                    * obs_bicodons.index.to_series().str[:3].apply(lambda c: codon_usage.loc[c]) \\\n",
    "                    * obs_bicodons.index.to_series().str[3:].apply(lambda c: codon_usage.loc[c]) \n",
    "    Z_stop = pd.DataFrame()\n",
    "    for frame, arf in zip(['+1','+2','-1','-2'], [fw1, fw2, rc1, rc2]):\n",
    "        exp_aa = exp_bicodons.groupby(arf).sum()\n",
    "        obs_aa = obs_bicodons.groupby(arf).sum()\n",
    "        N = exp_aa.sum()\n",
    "        obs_stop, exp_stop = obs_aa.loc['*'] / N, exp_aa.loc['*'] / N\n",
    "    \n",
    "        Z_stop[frame] = (obs_stop - exp_stop) / np.sqrt((exp_stop - exp_stop ** 2) / (N - 1))\n",
    "    \n",
    "    return Z_stop\n"
   ]
  },
  {
   "cell_type": "code",
   "execution_count": 6,
   "id": "otherwise-graph",
   "metadata": {},
   "outputs": [
    {
     "data": {
      "application/vnd.jupyter.widget-view+json": {
       "model_id": "f9620bed647e438d8497dd348d4d1e62",
       "version_major": 2,
       "version_minor": 0
      },
      "text/plain": [
       "  0%|          | 0/2624 [00:00<?, ?it/s]"
      ]
     },
     "metadata": {},
     "output_type": "display_data"
    }
   ],
   "source": [
    "from multiprocessing import Pool\n",
    "def work(gcf):\n",
    "    gcf, binned_codons, binned_bicodons = count_freqs_bin(gcf, nbins=10)\n",
    "    Z_stop = calc_Z_stop(binned_codons, binned_bicodons)\n",
    "    return gcf, Z_stop\n",
    "    \n",
    "Z_stop_summary = pd.DataFrame(\n",
    "    index=[f'#{bin_id}' for bin_id in range(1, 11)], \n",
    "    columns=pd.MultiIndex.from_product([metadata.acc['refseq'], ['+1','+2','-1','-2']])\n",
    ")\n",
    "with Pool(100) as pool:\n",
    "    for gcf, Z_stop in tqdm(pool.imap_unordered(work, metadata.acc['refseq']), total=len(metadata.acc)):\n",
    "        Z_stop_summary[gcf] = Z_stop\n",
    "\n",
    "Z_stop_summary = Z_stop_summary.swaplevel(axis=1).sort_index(axis=1).rename_axis(index='bin').astype(float)\n",
    "Z_stop_summary.to_pickle(path2.data/'position-bias-Z.pkl.bz2')"
   ]
  },
  {
   "cell_type": "markdown",
   "id": "enhanced-blind",
   "metadata": {},
   "source": [
    "Figures S3 is generated in [this notebook](../07-figures/FigS3-supp-position-bias.ipynb)"
   ]
  },
  {
   "cell_type": "code",
   "execution_count": null,
   "id": "comparative-processor",
   "metadata": {},
   "outputs": [],
   "source": []
  }
 ],
 "metadata": {
  "kernelspec": {
   "display_name": "Python 3",
   "language": "python",
   "name": "python3"
  },
  "language_info": {
   "codemirror_mode": {
    "name": "ipython",
    "version": 3
   },
   "file_extension": ".py",
   "mimetype": "text/x-python",
   "name": "python",
   "nbconvert_exporter": "python",
   "pygments_lexer": "ipython3",
   "version": "3.8.8"
  }
 },
 "nbformat": 4,
 "nbformat_minor": 5
}
