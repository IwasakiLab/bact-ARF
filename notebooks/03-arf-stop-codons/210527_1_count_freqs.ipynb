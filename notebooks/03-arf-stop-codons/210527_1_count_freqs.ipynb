{
 "cells": [
  {
   "cell_type": "markdown",
   "id": "judicial-minneapolis",
   "metadata": {},
   "source": [
    "# Investigation of a bias in ARFs\n",
    "\n",
    "- by obtaining codon frequencies and codon pair frequencies in non-overlapping regions of canonical ORFs (this notebook)\n",
    "- then, by calculating the expected codon pair frequency and ARF codon frequency ([next notebbok](./210527_2_calc_expected_freqs.ipynb))\n"
   ]
  },
  {
   "cell_type": "code",
   "execution_count": 1,
   "id": "dense-transition",
   "metadata": {},
   "outputs": [],
   "source": [
    "import pandas as pd\n",
    "from itertools import product\n",
    "from collections import Counter\n",
    "from tqdm.notebook import tqdm"
   ]
  },
  {
   "cell_type": "code",
   "execution_count": 2,
   "id": "radio-occupation",
   "metadata": {},
   "outputs": [],
   "source": [
    "from pyscripts.config import path2\n",
    "from pyscripts.datasets import Metadata, DatasetLoader\n",
    "from pyscripts.genomeutil import sliding, iter_cds_nonoverlapping_regions\n",
    "metadata = Metadata()\n",
    "dloader  = DatasetLoader()"
   ]
  },
  {
   "cell_type": "code",
   "execution_count": 3,
   "id": "charged-american",
   "metadata": {},
   "outputs": [],
   "source": [
    "# Ignore codons and codon pairs that contain ambiguous bases.\n",
    "codon_idx   = [*map(''.join, product('ACGT', repeat=3))]\n",
    "bicodon_idx = [*map(''.join, product('ACGT', repeat=6))]\n",
    " \n",
    "def count_freqs(acc):\n",
    "    longest_record = max(dloader.load_genome(acc), key=len)\n",
    "    longest_seq    = str(longest_record.seq)\n",
    "\n",
    "    nts      = pd.DataFrame(index=[*'ACGT'], dtype=pd.Int32Dtype())\n",
    "    codons   = pd.DataFrame(index=codon_idx, dtype=pd.Int32Dtype())\n",
    "    bicodons = pd.DataFrame(index=bicodon_idx, dtype=pd.Int32Dtype())\n",
    "    \n",
    "    for locus_tag, location in iter_cds_nonoverlapping_regions(longest_record):\n",
    "        locus_seq = location.extract(longest_seq)\n",
    "        nts[locus_tag]      = pd.Series(Counter(locus_seq), dtype=pd.Int32Dtype())\n",
    "        codons[locus_tag]   = pd.Series(Counter(sliding(locus_seq, 3, 3)), dtype=pd.Int32Dtype())\n",
    "        bicodons[locus_tag] = pd.Series(Counter(sliding(locus_seq, 6, 3)), dtype=pd.Int32Dtype())\n",
    "\n",
    "    return acc, nts.T.sum(), codons.T.sum(), bicodons.T.sum()"
   ]
  },
  {
   "cell_type": "code",
   "execution_count": 4,
   "id": "wrong-nebraska",
   "metadata": {},
   "outputs": [
    {
     "data": {
      "application/vnd.jupyter.widget-view+json": {
       "model_id": "ab6f79cf8e8b4c14ba490b29f354ba72",
       "version_major": 2,
       "version_minor": 0
      },
      "text/plain": [
       "  0%|          | 0/2624 [00:00<?, ?it/s]"
      ]
     },
     "metadata": {},
     "output_type": "display_data"
    }
   ],
   "source": [
    "nts_summary      = pd.DataFrame(index=[*'ACGT']  , columns=metadata.acc['refseq'], dtype=pd.Int32Dtype())\n",
    "codons_summary   = pd.DataFrame(index=codon_idx  , columns=metadata.acc['refseq'], dtype=pd.Int32Dtype())\n",
    "bicodons_summary = pd.DataFrame(index=bicodon_idx, columns=metadata.acc['refseq'], dtype=pd.Int32Dtype())\n",
    "\n",
    "from multiprocessing import Pool\n",
    "with Pool(100) as pool:\n",
    "    for acc, nts, codons, bicodons in tqdm(pool.imap_unordered(count_freqs, metadata.acc['refseq']), total=len(metadata.acc)):\n",
    "        nts_summary[acc]      = nts\n",
    "        codons_summary[acc]   = codons\n",
    "        bicodons_summary[acc] = bicodons\n",
    "\n",
    "nts_summary.sort_index(axis=1).to_pickle(path2.data/'kmer'/'nts_summary.pkl.bz2')\n",
    "codons_summary.sort_index(axis=1).to_pickle(path2.data/'kmer'/'codons_summary.pkl.bz2')\n",
    "bicodons_summary.sort_index(axis=1).to_pickle(path2.data/'kmer'/'bicodons_summary.pkl.bz2')"
   ]
  },
  {
   "cell_type": "code",
   "execution_count": null,
   "id": "suited-secretariat",
   "metadata": {},
   "outputs": [],
   "source": []
  }
 ],
 "metadata": {
  "kernelspec": {
   "display_name": "Python 3",
   "language": "python",
   "name": "python3"
  },
  "language_info": {
   "codemirror_mode": {
    "name": "ipython",
    "version": 3
   },
   "file_extension": ".py",
   "mimetype": "text/x-python",
   "name": "python",
   "nbconvert_exporter": "python",
   "pygments_lexer": "ipython3",
   "version": "3.8.8"
  }
 },
 "nbformat": 4,
 "nbformat_minor": 5
}
