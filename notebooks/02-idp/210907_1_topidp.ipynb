{
 "cells": [
  {
   "cell_type": "markdown",
   "id": "industrial-score",
   "metadata": {},
   "source": [
    "# Summarize the results of disorder prediction"
   ]
  },
  {
   "cell_type": "code",
   "execution_count": 1,
   "id": "olympic-victor",
   "metadata": {},
   "outputs": [],
   "source": [
    "import numpy as np\n",
    "import pandas as pd\n",
    "from itertools import chain\n",
    "from collections import Counter\n",
    "from tqdm.notebook import tqdm\n",
    "from pyscripts.config import path2\n",
    "from pyscripts.datasets import Metadata\n",
    "metadata = Metadata()"
   ]
  },
  {
   "cell_type": "code",
   "execution_count": 2,
   "id": "talented-shower",
   "metadata": {},
   "outputs": [],
   "source": [
    "topidp = pd.Series(dict(\n",
    "    W = -0.884, F = -0.697, Y = -0.510, I = -0.486, \n",
    "    M = -0.397, L = -0.326, V = -0.121, N = +0.007, \n",
    "    C = +0.020, T = +0.059, A = +0.060, G = +0.166, \n",
    "    R = +0.180, D = +0.192, H = +0.302, Q = +0.318,\n",
    "    S = +0.341, K = +0.586, E = +0.736, P = +0.987,\n",
    "))"
   ]
  },
  {
   "cell_type": "code",
   "execution_count": 3,
   "id": "bronze-contact",
   "metadata": {},
   "outputs": [],
   "source": [
    "def get_disorder_summary2(gcf):\n",
    "    nc = pd.read_pickle(path2.data/'iupred2a'/'noncoding-intermediates'/f'{gcf}.pkl.bz2')\n",
    "    cd = pd.read_pickle(path2.data/'iupred2a'/'cds-intermediates'/f'{gcf}.pkl.bz2')\n",
    "    dat = {\n",
    "        'acc': gcf,\n",
    "        'summary': [\n",
    "            {\n",
    "                'len_thresh': len_thresh , #'prob_thresh': prob_thresh, \n",
    "                'counts': Counter(\n",
    "                    (r, a)\n",
    "                    for ent in filter(lambda e: len(e['loc']) >= len_thresh, chain(nc, cd))\n",
    "                    for r, a in zip(ent['relfr'], ent['transl'])\n",
    "                )\n",
    "            }\n",
    "            for len_thresh  in (30, 100, 300) \n",
    "            #for prob_thresh in (0, 0.5, 0.6, 0.7, 0.75, 0.8, 0.9)\n",
    "        ]\n",
    "    }\n",
    "    return dat"
   ]
  },
  {
   "cell_type": "code",
   "execution_count": 4,
   "id": "premier-pendant",
   "metadata": {},
   "outputs": [
    {
     "data": {
      "application/vnd.jupyter.widget-view+json": {
       "model_id": "694ccb3e9caf4cfca9d1cb737869524b",
       "version_major": 2,
       "version_minor": 0
      },
      "text/plain": [
       "  0%|          | 0/2624 [00:00<?, ?it/s]"
      ]
     },
     "metadata": {},
     "output_type": "display_data"
    }
   ],
   "source": [
    "from multiprocessing import Pool\n",
    "topidp_summary = pd.DataFrame(\n",
    "    columns=pd.MultiIndex(levels=[[],[]], codes=[[],[]], names=['gcf','len_thresh']),\n",
    ")\n",
    "\n",
    "with Pool(100) as pool:    \n",
    "    for dat in tqdm(pool.imap_unordered(get_disorder_summary2, metadata.acc['refseq']), total=len(metadata.acc)):\n",
    "        gcf = dat['acc']\n",
    "        for s in dat['summary']:\n",
    "            len_thresh = s['len_thresh']\n",
    "            aa_counts = pd.Series(s['counts']).unstack().T.reindex([*'ACDEFGHIKLMNPQRSTVWY']).fillna(0)\n",
    "            topidp_summary[(gcf, len_thresh)] = (aa_counts / aa_counts.sum()).T @ topidp\n",
    "            \n",
    "pd.to_pickle(topidp_summary, path2.data/'topidp'/'summary.pkl.bz2')"
   ]
  },
  {
   "cell_type": "code",
   "execution_count": null,
   "id": "civic-style",
   "metadata": {},
   "outputs": [],
   "source": []
  }
 ],
 "metadata": {
  "kernelspec": {
   "display_name": "Python 3",
   "language": "python",
   "name": "python3"
  },
  "language_info": {
   "codemirror_mode": {
    "name": "ipython",
    "version": 3
   },
   "file_extension": ".py",
   "mimetype": "text/x-python",
   "name": "python",
   "nbconvert_exporter": "python",
   "pygments_lexer": "ipython3",
   "version": "3.8.8"
  }
 },
 "nbformat": 4,
 "nbformat_minor": 5
}
