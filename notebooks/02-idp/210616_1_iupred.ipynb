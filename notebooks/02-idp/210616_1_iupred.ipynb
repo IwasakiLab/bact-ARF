{
 "cells": [
  {
   "cell_type": "markdown",
   "id": "embedded-pixel",
   "metadata": {},
   "source": [
    "# Disorder prediction of translations from bacterial genomic sequences"
   ]
  },
  {
   "cell_type": "code",
   "execution_count": 1,
   "id": "extraordinary-powell",
   "metadata": {},
   "outputs": [],
   "source": [
    "import numpy as np\n",
    "import pandas as pd\n",
    "from tqdm.notebook import tqdm\n",
    "from Bio.Seq import reverse_complement\n",
    "from Bio.SeqFeature import ExactPosition, FeatureLocation, CompoundLocation\n",
    "from pyscripts.config import path2\n",
    "from pyscripts.datasets import DatasetLoader, Metadata\n",
    "from pyscripts.genomeutil import bac_translate, is_regular\n",
    "\n",
    "dloader  = DatasetLoader()\n",
    "metadata = Metadata()"
   ]
  },
  {
   "cell_type": "code",
   "execution_count": 2,
   "id": "sustained-canon",
   "metadata": {},
   "outputs": [
    {
     "name": "stdout",
     "output_type": "stream",
     "text": [
      "# IUPred2A: context-dependent prediction of protein disorder as a function of redox state and protein binding\n",
      "# Balint Meszaros, Gabor Erdos, Zsuzsanna Dosztanyi\n",
      "# Nucleic Acids Research 2018;46(W1):W329-W337.\n",
      "#\n",
      "# Prediction type: long\n",
      "\n",
      "# modified by Shun Yamanouchi\n"
     ]
    }
   ],
   "source": [
    "from pyscripts.iupred2a_lib_mod import iupred2a_predictor\n",
    "pred = iupred2a_predictor('long')\n",
    "\n",
    "# The original version of IUPred2A was reported by Balint Meszaros, Gabor Erdos, Zsuzsanna Dosztanyi in Nucleic Acids Research 2018;46(W1):W329-W337.\n",
    "# The following is a copyright notice under a license from IUPred2A:\n",
    "## © 2018-2020 Dr. Zsuzsanna Dosztányi, Bálint Mészáros and Gábor Erdős, and Eötvös Loránd University (ELTE)\n",
    "## All rights are reserved for the authors and ELTE.\n",
    "\n",
    "# 'iupred2a_lib_mod.py' is a modified version of 'iupred2a_lib.py' of IUPred2A by Shun Yamanouchi at Dept. of Biol. Sci., Grad. Sch. of Sci., the Univ. of Tokyo.\n",
    "# Specifically, I wrapped the original functions in a class, and suppressed the file loading that occurs every time the iupred() function is called.\n",
    "# No changes have been made to the core of the program.\n",
    "# The source code is not available to the public because the license prohibits redistribution."
   ]
  },
  {
   "cell_type": "markdown",
   "id": "useful-subscriber",
   "metadata": {},
   "source": [
    "## For noncoding reading frames\n",
    "\n",
    "- The upstream sequences of all canonical ORFs and all non-stop reading frames that are not in-frame with the canonical ORFs were translated into peptides.\n",
    "- Of these, those with a length of more than or eqal to 30 amino acid residues were subjected to prediction of intrinsic diorder using IUPred2A."
   ]
  },
  {
   "cell_type": "code",
   "execution_count": 3,
   "id": "latter-finding",
   "metadata": {
    "tags": []
   },
   "outputs": [],
   "source": [
    "from enum import IntEnum\n",
    "class AbsFrame(IntEnum):\n",
    "    NONE  = 0b00000000\n",
    "    P0    = 0b00000001\n",
    "    P1    = 0b00000010\n",
    "    P2    = 0b00000100\n",
    "    M0    = 0b00001000\n",
    "    M1    = 0b00010000\n",
    "    M2    = 0b00100000\n",
    "    ALL   = P0 | P1 | P2 | M0 | M1 | M2\n",
    "\n",
    "plusAbs  = [AbsFrame.P0, AbsFrame.P1, AbsFrame.P2]\n",
    "minusAbs = [AbsFrame.M0, AbsFrame.M1, AbsFrame.M2]\n",
    "    \n",
    "class RelFrame(IntEnum):\n",
    "    UNDET = 0b00000000\n",
    "    FW0   = 0b00000001\n",
    "    FW1   = 0b00000010\n",
    "    FW2   = 0b00000100\n",
    "    RC0   = 0b00001000\n",
    "    RC1   = 0b00010000\n",
    "    RC2   = 0b00100000\n",
    "\n",
    "map2AbsFrame = {\n",
    "    (0, +1): AbsFrame.P0, (1, +1): AbsFrame.P1, (2, +1): AbsFrame.P2, \n",
    "    (0, -1): AbsFrame.M0, (1, -1): AbsFrame.M1, (2, -1): AbsFrame.M2\n",
    "}\n",
    "\n",
    "map2RelFrame = { # (self_abs, coding_abs) => self_relative_to_coding\n",
    "    (AbsFrame.P0, AbsFrame.P0): RelFrame.FW0, (AbsFrame.P0, AbsFrame.M0): RelFrame.RC0, \n",
    "    (AbsFrame.P0, AbsFrame.P1): RelFrame.FW2, (AbsFrame.P0, AbsFrame.M1): RelFrame.RC1, \n",
    "    (AbsFrame.P0, AbsFrame.P2): RelFrame.FW1, (AbsFrame.P0, AbsFrame.M2): RelFrame.RC2, \n",
    "\n",
    "    (AbsFrame.P1, AbsFrame.P0): RelFrame.FW1, (AbsFrame.P1, AbsFrame.M0): RelFrame.RC2, \n",
    "    (AbsFrame.P1, AbsFrame.P1): RelFrame.FW0, (AbsFrame.P1, AbsFrame.M1): RelFrame.RC0, \n",
    "    (AbsFrame.P1, AbsFrame.P2): RelFrame.FW2, (AbsFrame.P1, AbsFrame.M2): RelFrame.RC1, \n",
    "\n",
    "    (AbsFrame.P2, AbsFrame.P0): RelFrame.FW2, (AbsFrame.P2, AbsFrame.M0): RelFrame.RC1, \n",
    "    (AbsFrame.P2, AbsFrame.P1): RelFrame.FW1, (AbsFrame.P2, AbsFrame.M1): RelFrame.RC2, \n",
    "    (AbsFrame.P2, AbsFrame.P2): RelFrame.FW0, (AbsFrame.P2, AbsFrame.M2): RelFrame.RC0, \n",
    "\n",
    "    (AbsFrame.M0, AbsFrame.P0): RelFrame.RC0, (AbsFrame.M0, AbsFrame.M0): RelFrame.FW0, \n",
    "    (AbsFrame.M0, AbsFrame.P1): RelFrame.RC2, (AbsFrame.M0, AbsFrame.M1): RelFrame.FW1, \n",
    "    (AbsFrame.M0, AbsFrame.P2): RelFrame.RC1, (AbsFrame.M0, AbsFrame.M2): RelFrame.FW2, \n",
    "\n",
    "    (AbsFrame.M1, AbsFrame.P0): RelFrame.RC1, (AbsFrame.M1, AbsFrame.M0): RelFrame.FW2, \n",
    "    (AbsFrame.M1, AbsFrame.P1): RelFrame.RC0, (AbsFrame.M1, AbsFrame.M1): RelFrame.FW0, \n",
    "    (AbsFrame.M1, AbsFrame.P2): RelFrame.RC2, (AbsFrame.M1, AbsFrame.M2): RelFrame.FW1, \n",
    "\n",
    "    (AbsFrame.M2, AbsFrame.P0): RelFrame.RC2, (AbsFrame.M2, AbsFrame.M0): RelFrame.FW1, \n",
    "    (AbsFrame.M2, AbsFrame.P1): RelFrame.RC1, (AbsFrame.M2, AbsFrame.M1): RelFrame.FW2, \n",
    "    (AbsFrame.M2, AbsFrame.P2): RelFrame.RC0, (AbsFrame.M2, AbsFrame.M2): RelFrame.FW0, \n",
    "}\n"
   ]
  },
  {
   "cell_type": "code",
   "execution_count": 4,
   "id": "unsigned-hybrid",
   "metadata": {},
   "outputs": [],
   "source": [
    "import re\n",
    "def iter_noncoding_reading_frames(record):    \n",
    "    seq = str(record.seq)\n",
    "    coding_absframe = np.full(len(seq), AbsFrame.NONE, dtype='int8')\n",
    "    \n",
    "    start_plus, start_minus = [], []\n",
    "    # record all start codons of canonical ORFs\n",
    "    # record absolute RF of all ORFs\n",
    "    for cds in filter(lambda feat: feat.type=='CDS', record.features):\n",
    "        loc = cds.location\n",
    "        if is_regular(cds, record):\n",
    "            for pt in loc.parts:\n",
    "                coding_absframe[pt.start:pt.end] |= map2AbsFrame[(pt.start%3, pt.strand)] \n",
    "            if loc.strand > 0:\n",
    "                start_plus.append(loc.start if len(loc.parts)==1 else loc.parts[0].start)\n",
    "            else:\n",
    "                start_minus.append(loc.end if len(loc.parts)==1 else loc.parts[1].end)\n",
    "        else:\n",
    "            for pt in loc.parts:\n",
    "                coding_absframe[pt.start:pt.end] = AbsFrame.ALL\n",
    "    \n",
    "    # regex patterns of stop codons to record all of them\n",
    "    ptrn_stop_plus  = re.compile('TAA|TAG|TGA|TRA|TAR')\n",
    "    ptrn_stop_minus = re.compile('TTA|CTA|TCA|TYA|YTA')\n",
    "    \n",
    "    # split by (1) start codons of canonical ORFs; (2) all stop codons on the genome\n",
    "    plus = pd.concat([\n",
    "        pd.DataFrame({'s': start_plus, 'e': start_plus}, dtype=int),\n",
    "        pd.DataFrame([\n",
    "            m.span() \n",
    "            for m in re.finditer(ptrn_stop_plus, seq)\n",
    "        ], columns=['s','e'], dtype=int)\n",
    "    ])\n",
    "    \n",
    "    minus = pd.concat([\n",
    "        pd.DataFrame({'s': start_minus, 'e': start_minus}, dtype=int),\n",
    "        pd.DataFrame([\n",
    "            m.span() \n",
    "            for m in re.finditer(ptrn_stop_minus, seq)\n",
    "        ], columns=['s','e'], dtype=int)\n",
    "    ])\n",
    "    \n",
    "    # find all non-stop and non-coding regions\n",
    "    for sign, strand_pm in {+1: plus, -1: minus}.items():\n",
    "        cross_pm = {}\n",
    "        for self_absfr, pm_fr in strand_pm.groupby((strand_pm['s']%3).apply(lambda st: map2AbsFrame[(st, sign)])):\n",
    "            pm_fr = pm_fr.sort_values(by=['s','e']).reset_index(drop=True)\n",
    "            cross_pm[self_absfr] = (pm_fr.iloc[0, 0], pm_fr.iloc[-1, 1])\n",
    "            \n",
    "            for s, e in zip(pm_fr['e'].values, pm_fr['s'].values[1:]):\n",
    "                if s == e or (coding_absframe[s:e] & self_absfr).any(): \n",
    "                    ## ignore in-frame overlap with any (potential) coding region\n",
    "                    continue  \n",
    "                \n",
    "                ## assign relframe to non-coding reading frames\n",
    "                loc = FeatureLocation(ExactPosition(s), ExactPosition(e), sign)\n",
    "                transl = bac_translate(loc.extract(seq))\n",
    "                assert '*' not in transl\n",
    "                \n",
    "                self_relframe = np.full_like(coding_absframe[s:e], RelFrame.UNDET, dtype='int8')\n",
    "                for coding_absfr in (plusAbs + minusAbs):\n",
    "                    self_relframe[coding_absframe[s:e] == coding_absfr] = map2RelFrame[(self_absfr, coding_absfr)]\n",
    "                self_relframe_transl = (self_relframe[0::3] & self_relframe[1::3] & self_relframe[2::3])[::sign]\n",
    "                yield loc, transl, self_relframe_transl\n",
    "                assert (self_relframe_transl != RelFrame.FW0).all(), (s, e, loc, transl)\n",
    "        \n",
    "        ## Handling corner cases: ARFs that cross the boundary of a circular DNA record.\n",
    "        ## Very troublesome...\n",
    "        if record.annotations['topology'] == 'circular':\n",
    "            mod = len(seq) % 3\n",
    "            pair_first  = plusAbs if sign>0 else minusAbs\n",
    "            pair_second = pair_first[-mod:] + pair_first[:-mod]\n",
    "\n",
    "            for self_absfr1, self_absfr2 in zip(pair_first, pair_second):\n",
    "                s1, e2 = cross_pm[self_absfr1][1], cross_pm[self_absfr2][0]\n",
    "                coding_absframe1, coding_absframe2 = coding_absframe[s1:], coding_absframe[:e2]\n",
    "                if (coding_absframe[s1:] & self_absfr1).any() or (coding_absframe[:e2] & self_absfr2).any(): \n",
    "                    ## ignore in-frame overlap with any (potential) coding region\n",
    "                    continue\n",
    "                self_relframe1 = np.full_like(coding_absframe1, RelFrame.UNDET, dtype='int8')\n",
    "                self_relframe2 = np.full_like(coding_absframe2, RelFrame.UNDET, dtype='int8')    \n",
    "                for coding_absfr in (plusAbs + minusAbs):\n",
    "                    self_relframe1[coding_absframe1 == coding_absfr] = map2RelFrame[(self_absfr1, coding_absfr)]\n",
    "                    self_relframe2[coding_absframe2 == coding_absfr] = map2RelFrame[(self_absfr2, coding_absfr)]\n",
    "                self_relframe = np.hstack([self_relframe1, self_relframe2])\n",
    "                self_relframe_transl = (self_relframe[0::3] & self_relframe[1::3] & self_relframe[2::3])[::sign]\n",
    "\n",
    "                loc = CompoundLocation([\n",
    "                    FeatureLocation(ExactPosition(s1), ExactPosition(len(seq)), sign),\n",
    "                    FeatureLocation(ExactPosition(0), ExactPosition(e2), sign)\n",
    "                ][::sign])\n",
    "                transl = bac_translate(loc.extract(seq))\n",
    "\n",
    "                if (p := transl.find('*')) < 0:\n",
    "                    yield loc, transl, self_relframe_transl\n",
    "                    assert len(transl) == len(self_relframe_transl)\n",
    "                else:\n",
    "                    assert '*' not in transl[p+1:]\n",
    "                    e1, s2 = s1 + (len(seq)-s1) // 3 * 3, e2 % 3\n",
    "                    loc1 = FeatureLocation(ExactPosition(s1), ExactPosition(e1), sign)\n",
    "                    loc2 = FeatureLocation(ExactPosition(s2), ExactPosition(e2), sign)\n",
    "                    if sign > 0:\n",
    "                        yield loc1, transl[:p],   self_relframe_transl[:p]\n",
    "                        yield loc2, transl[p+1:], self_relframe_transl[p+1:]\n",
    "                        assert len(loc2) == len(self_relframe_transl[p+1:]) * 3 and (len(seq)-s1) // 3 == p\n",
    "                    else:\n",
    "                        yield loc2, transl[:p],   self_relframe_transl[:p]\n",
    "                        yield loc1, transl[p+1:], self_relframe_transl[p+1:]\n",
    "                        assert len(loc2) == p * 3 and (len(seq)-s1) // 3 == len(self_relframe_transl[p+1:])\n",
    "        \n",
    "        else:\n",
    "            for self_absfr, (e2, s1) in cross_pm.items():\n",
    "                e1, s2 = s1 + (len(seq)-s1) // 3 * 3, e2 % 3\n",
    "                loc1 = FeatureLocation(ExactPosition(s1), ExactPosition(e1), sign)\n",
    "                loc2 = FeatureLocation(ExactPosition(s2), ExactPosition(e2), sign)\n",
    "                transl1 = bac_translate(loc1.extract(seq))\n",
    "                transl2 = bac_translate(loc2.extract(seq))\n",
    "                coding_absframe1 = coding_absframe[s1:e1]\n",
    "                coding_absframe2 = coding_absframe[s2:e2]\n",
    "                self_relframe1 = np.full_like(coding_absframe1, RelFrame.UNDET, dtype='int8')\n",
    "                self_relframe2 = np.full_like(coding_absframe2, RelFrame.UNDET, dtype='int8')    \n",
    "                for coding_absfr in (plusAbs + minusAbs):\n",
    "                    self_relframe1[coding_absframe1 == coding_absfr] = map2RelFrame[(self_absfr, coding_absfr)]\n",
    "                    self_relframe2[coding_absframe2 == coding_absfr] = map2RelFrame[(self_absfr, coding_absfr)]\n",
    "                self_relframe_transl1 = (self_relframe1[0::3] & self_relframe1[1::3] & self_relframe1[2::3])[::sign]\n",
    "                self_relframe_transl2 = (self_relframe2[0::3] & self_relframe2[1::3] & self_relframe2[2::3])[::sign]\n",
    "                yield loc1, transl1, self_relframe_transl1\n",
    "                yield loc2, transl2, self_relframe_transl2\n"
   ]
  },
  {
   "cell_type": "code",
   "execution_count": 5,
   "id": "billion-surfing",
   "metadata": {
    "tags": []
   },
   "outputs": [
    {
     "data": {
      "application/vnd.jupyter.widget-view+json": {
       "model_id": "b76aeed9fc3d425ea395854c867a9987",
       "version_major": 2,
       "version_minor": 0
      },
      "text/plain": [
       "  0%|          | 0/2624 [00:00<?, ?it/s]"
      ]
     },
     "metadata": {},
     "output_type": "display_data"
    }
   ],
   "source": [
    "def work1(gcf):\n",
    "    rec = max(dloader.load_genome(gcf), key=len)\n",
    "    nc = [\n",
    "        dict(loc=loc, transl=transl, relfr=relfr, iupred2=np.array(pred.iupred(transl)))\n",
    "        for loc, transl, relfr in iter_noncoding_reading_frames(rec)\n",
    "        if len(loc) >= 30\n",
    "    ]\n",
    "    pd.to_pickle(nc, path2.data/'iupred2a'/'noncoding-intermediates'/f'{gcf}.pkl.bz2')\n",
    "    \n",
    "from multiprocessing import Pool\n",
    "with Pool(100) as pool:\n",
    "    for _ in tqdm(pool.imap_unordered(work1, metadata.acc['refseq']), total=len(metadata.acc)):\n",
    "        pass\n"
   ]
  },
  {
   "cell_type": "markdown",
   "id": "united-detail",
   "metadata": {},
   "source": [
    "## For coding sequences\n",
    "\n",
    "- Degeneration prediction by IUPred2A was performed for CDSs that were considered to be regular by the following criteria.\n",
    "  - not annotated as pseudo\n",
    "  - have length in a multiple of three\n",
    "  - consist of a single part\n",
    "  - start with a start codon and end with a stop codon\n",
    "        \n",
    "- The annotations of the CDSs followed those of NCBI RefSeq. Here, overlapping regions with other genes were also included in the total count.\n"
   ]
  },
  {
   "cell_type": "code",
   "execution_count": 6,
   "id": "infrared-developer",
   "metadata": {
    "tags": []
   },
   "outputs": [
    {
     "data": {
      "application/vnd.jupyter.widget-view+json": {
       "model_id": "c92481e22db341d7bead20c808feaa75",
       "version_major": 2,
       "version_minor": 0
      },
      "text/plain": [
       "  0%|          | 0/2624 [00:00<?, ?it/s]"
      ]
     },
     "metadata": {},
     "output_type": "display_data"
    }
   ],
   "source": [
    "def work2(gcf):\n",
    "    rec = max(dloader.load_genome(gcf), key=len)\n",
    "    cd = [\n",
    "        dict(loc=cds.location, transl=transl, relfr=np.full(len(transl), RelFrame.FW0, dtype='int8'), iupred2=np.array(pred.iupred(transl)))\n",
    "        for cds in filter(lambda feat: feat.type=='CDS', rec.features)\n",
    "        if is_regular(cds, rec)\n",
    "        if (transl := cds.qualifiers.get('translation', [None])[0]) is not None\n",
    "    ]\n",
    "    pd.to_pickle(cd, path2.data/'iupred2a'/'cds-intermediates'/f'{gcf}.pkl.bz2')\n",
    "    \n",
    "from multiprocessing import Pool\n",
    "with Pool(100) as pool:\n",
    "    for _ in tqdm(pool.imap_unordered(work2, metadata.acc['refseq']), total=len(metadata.acc)):\n",
    "        pass\n"
   ]
  },
  {
   "cell_type": "code",
   "execution_count": null,
   "id": "sweet-payday",
   "metadata": {},
   "outputs": [],
   "source": []
  }
 ],
 "metadata": {
  "kernelspec": {
   "display_name": "Python 3",
   "language": "python",
   "name": "python3"
  },
  "language_info": {
   "codemirror_mode": {
    "name": "ipython",
    "version": 3
   },
   "file_extension": ".py",
   "mimetype": "text/x-python",
   "name": "python",
   "nbconvert_exporter": "python",
   "pygments_lexer": "ipython3",
   "version": "3.8.8"
  }
 },
 "nbformat": 4,
 "nbformat_minor": 5
}
