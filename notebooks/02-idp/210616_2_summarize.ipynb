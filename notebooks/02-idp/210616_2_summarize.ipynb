{
 "cells": [
  {
   "cell_type": "markdown",
   "id": "champion-scope",
   "metadata": {},
   "source": [
    "# Summarize the results of disorder prediction"
   ]
  },
  {
   "cell_type": "code",
   "execution_count": 1,
   "id": "consistent-charleston",
   "metadata": {},
   "outputs": [],
   "source": [
    "import numpy as np\n",
    "import pandas as pd\n",
    "from itertools import chain\n",
    "from collections import Counter\n",
    "from tqdm.notebook import tqdm\n",
    "from pyscripts.config import path2\n",
    "from pyscripts.datasets import Metadata\n",
    "metadata = Metadata()"
   ]
  },
  {
   "cell_type": "code",
   "execution_count": 2,
   "id": "labeled-assets",
   "metadata": {},
   "outputs": [],
   "source": [
    "def get_disorder_summary(gcf):\n",
    "    nc = pd.read_pickle(path2.data/'iupred2a'/'noncoding-intermediates'/f'{gcf}.pkl.bz2')\n",
    "    cd = pd.read_pickle(path2.data/'iupred2a'/'cds-intermediates'/f'{gcf}.pkl.bz2')\n",
    "    dat = {\n",
    "        'acc': gcf,\n",
    "        'summary': [\n",
    "            {\n",
    "                'len_thresh': len_thresh , 'prob_thresh': prob_thresh, \n",
    "                'counts': Counter([\n",
    "                    i \n",
    "                    for ent in filter(lambda e: len(e['loc']) >= len_thresh, chain(nc, cd))\n",
    "                    for i in ent['relfr'][ent['iupred2'] >= prob_thresh]\n",
    "                ])\n",
    "            }\n",
    "            for len_thresh  in (30, 100, 300) \n",
    "            for prob_thresh in (0, 0.5, 0.6, 0.7, 0.75, 0.8, 0.9)\n",
    "        ]\n",
    "    }\n",
    "    return dat\n"
   ]
  },
  {
   "cell_type": "code",
   "execution_count": 3,
   "id": "pursuant-teacher",
   "metadata": {
    "tags": []
   },
   "outputs": [
    {
     "data": {
      "application/vnd.jupyter.widget-view+json": {
       "model_id": "a7391244c80e4d06992fd943fdd12bbc",
       "version_major": 2,
       "version_minor": 0
      },
      "text/plain": [
       "  0%|          | 0/2624 [00:00<?, ?it/s]"
      ]
     },
     "metadata": {},
     "output_type": "display_data"
    }
   ],
   "source": [
    "summary = pd.DataFrame(\n",
    "    columns=pd.MultiIndex(levels=[[],[],[]], codes=[[],[],[]], names=['gcf','len_thresh','prob_thresh']),\n",
    "    dtype=pd.Int64Dtype()\n",
    ")\n",
    "\n",
    "from multiprocessing import Pool\n",
    "with Pool(100) as pool:    \n",
    "    for dat in tqdm(pool.imap_unordered(get_disorder_summary, metadata.acc['refseq']), total=len(metadata.acc)):\n",
    "        gcf = dat['acc']\n",
    "        for s in dat['summary']:\n",
    "            len_thresh, prob_thresh, counts = s['len_thresh'], s['prob_thresh'], s['counts']\n",
    "            summary[(gcf, len_thresh, prob_thresh)] = pd.Series(counts, dtype=pd.Int64Dtype())\n",
    "\n",
    "summary = summary.sort_index(axis=0).sort_index(axis=1)\n",
    "pd.to_pickle(summary, path2.data/'iupred2a'/'summary.pkl.bz2')"
   ]
  },
  {
   "cell_type": "code",
   "execution_count": null,
   "id": "naval-dominant",
   "metadata": {},
   "outputs": [],
   "source": []
  }
 ],
 "metadata": {
  "kernelspec": {
   "display_name": "Python 3",
   "language": "python",
   "name": "python3"
  },
  "language_info": {
   "codemirror_mode": {
    "name": "ipython",
    "version": 3
   },
   "file_extension": ".py",
   "mimetype": "text/x-python",
   "name": "python",
   "nbconvert_exporter": "python",
   "pygments_lexer": "ipython3",
   "version": "3.8.8"
  }
 },
 "nbformat": 4,
 "nbformat_minor": 5
}
