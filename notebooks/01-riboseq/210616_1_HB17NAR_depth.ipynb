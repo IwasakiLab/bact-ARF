{
 "cells": [
  {
   "cell_type": "markdown",
   "id": "constitutional-blues",
   "metadata": {},
   "source": [
    "# Read mapping and depth (density) calculation\n",
    "\n",
    "for RNA-Seq/Ribo-Seq data of Hwang & Buskirk (NAR, 2017)\n",
    "- See [this notebook](../00-prep-pubdata/210615_expression_HB17NAR.ipynb) for procedures to download the data.\n",
    "\n",
    "- For both RNA- and Ribo-Seq, adapter sequences were automatically detected and trimmed from raw fastq reads by fastp (v0.20.1). Then bowtie2 (v2.4.4) was used to map the trimmed reads to the reference genomes (see [metadata](../../metadata/expression/HB17NAR_refs.tsv)). Both tools was executed under the default parameters.\n",
    "\n",
    "\n",
    "\n",
    "- For RNA-Seq, position-wise read depths were counted, ignoring multi-mapped reads and reads that mapped to tRNA/rRNA on the same strand.\n",
    "- For Ribo-Seq, position-wise ribosome read densities were calculated by assigning reads to the 3' end positions. Multi-mapped reads and reads that mapped to tRNA/rRNA on same strand were also removed."
   ]
  },
  {
   "cell_type": "markdown",
   "id": "reported-fusion",
   "metadata": {},
   "source": [
    "## Docker condifuration\n",
    "\n",
    "docker-compose.yml\n",
    "```\n",
    "version: '3'\n",
    "services:\n",
    "  (...)\n",
    "  mapping:\n",
    "    build: ./docker/mapping\n",
    "    volumes:\n",
    "      - ./data:/data\n",
    "      - ./metadata:/metadata\n",
    "      - ./scripts:/scripts\n",
    "  (...)\n",
    "```\n",
    "\n",
    "docker/mapping/Dockerfile\n",
    "```\n",
    "FROM continuumio/miniconda3:4.9.2\n",
    "RUN conda install -c conda-forge -y mamba==0.8.2\n",
    "RUN mamba install -c conda-forge -c bioconda -y \\\n",
    "        sra-tools==2.11.0 fastp==0.20.1 bowtie2==2.4.4 samtools==1.12  \n",
    "```"
   ]
  },
  {
   "cell_type": "markdown",
   "id": "monetary-encoding",
   "metadata": {},
   "source": [
    "## Commands and scripts to reproduce reads mapping\n",
    "\n",
    "```\n",
    "docker-compose run --rm mapping /bin/bash scripts/210615_2_HB17NAR.sh\n",
    "```\n",
    "\n",
    "scripts/210615_2_HB17NAR.sh:\n",
    "\n",
    "```{bash}\n",
    "#!/bin/bash -eu\n",
    "\n",
    "# reference genome indexing\n",
    "run_bowtie2build () {\n",
    "    local infile=$1\n",
    "    local outfile=${infile/reference/bowtie2_idx}\n",
    "    local logfile=${outfile/.fna/.log}\n",
    "    outfile=${outfile/.fna/}\n",
    "\n",
    "    bowtie2-build $infile $outfile &> $logfile\n",
    "}\n",
    "\n",
    "export -f run_bowtie2build\n",
    "\n",
    "ls /data/expression/HB17NAR/reference/*.fna | xargs -t -P5 -L1 -I{} /bin/bash -c 'run_bowtie2build {}'\n",
    "\n",
    "# adapter sequence trimming\n",
    "run_fastp () {\n",
    "    local infile=$1\n",
    "    local outfile=${infile/pubdata\\//}\n",
    "    outfile=${outfile/fastq/trimmed_fastq}\n",
    "    local htmlfile=${outfile/.fastq.gz/.html}\n",
    "    local jsonfile=${outfile/.fastq.gz/.json}\n",
    "    local logfile=${outfile/.fastq.gz/.log}\n",
    "    outfile=${outfile/.fastq.gz/.trimmed.fastq.gz}\n",
    "\n",
    "    fastp -i $infile -a CTGTAGGCACCATCAAT -o $outfile -h $htmlfile -j $jsonfile 2> $logfile\n",
    "}\n",
    "\n",
    "export -f run_fastp\n",
    "\n",
    "ls /data/pubdata/expression/HB17NAR/fastq/*.fastq.gz | xargs -t -P40 -L1 -I{} /bin/bash -c 'run_fastp {}'\n",
    "\n",
    "# read mapping\n",
    "run_bowtie2align () {\n",
    "    local basename=/data/expression/HB17NAR\n",
    "    local readsfile=$basename/trimmed_fastq/$1.trimmed.fastq.gz\n",
    "    local reffile=$basename/bowtie2_idx/$2\n",
    "    local outfile=$basename/bam/$1.bam\n",
    "    local logfile=$basename/bam/$1.log\n",
    "    bowtie2 --very-sensitive --no-unal -x $reffile -U $readsfile -p 8 2> $logfile | samtools view -b | samtools sort -o $outfile -@ 8\n",
    "}\n",
    "\n",
    "export -f run_bowtie2align\n",
    "\n",
    "tail -n +2 /metadata/expression/HB17NAR_runs.tsv | awk '{print $1,$12}' | xargs -t -P12 -L2 -I{} /bin/bash -c 'run_bowtie2align {}'\n",
    "\n",
    "```"
   ]
  },
  {
   "cell_type": "markdown",
   "id": "dominican-permission",
   "metadata": {},
   "source": [
    "### Depth calculation"
   ]
  },
  {
   "cell_type": "code",
   "execution_count": 1,
   "id": "hazardous-pharmacy",
   "metadata": {},
   "outputs": [],
   "source": [
    "import os\n",
    "import pandas as pd\n",
    "import pysam\n",
    "import tempfile\n",
    "from multiprocessing import Pool\n",
    "from tqdm.notebook import tqdm\n",
    "from pathlib import Path\n",
    "from pyscripts.config import path2\n",
    "from pyscripts.datasets import DatasetLoader\n",
    "from pyscripts.genomeutil import get_intervaltree\n",
    "dloader = DatasetLoader()"
   ]
  },
  {
   "cell_type": "code",
   "execution_count": 2,
   "id": "informed-beverage",
   "metadata": {},
   "outputs": [],
   "source": [
    "refs = pd.read_csv(path2.metadata/'expression'/'HB17NAR_refs.tsv', sep='\\t')\n",
    "runs = pd.read_csv(path2.metadata/'expression'/'HB17NAR_runs.tsv', sep='\\t')"
   ]
  },
  {
   "cell_type": "code",
   "execution_count": 3,
   "id": "hazardous-behalf",
   "metadata": {},
   "outputs": [],
   "source": [
    "ignore_intervals = {\n",
    "    ref: {\n",
    "        rec.id:\n",
    "        get_intervaltree(rec, filt_func=lambda feat: feat.type in {'rRNA', 'tRNA'})\n",
    "        for rec in dloader.load_genome(ref, path2.pubdata/'expression'/'HB17NAR'/'reference')\n",
    "    }\n",
    "    for ref in refs['reference_assembly']\n",
    "}"
   ]
  },
  {
   "cell_type": "code",
   "execution_count": 4,
   "id": "greek-london",
   "metadata": {},
   "outputs": [],
   "source": [
    "workdir = path2.data/'expression'/'HB17NAR'"
   ]
  },
  {
   "cell_type": "code",
   "execution_count": 5,
   "id": "protecting-needle",
   "metadata": {
    "tags": []
   },
   "outputs": [
    {
     "data": {
      "application/vnd.jupyter.widget-view+json": {
       "model_id": "ca33fed7855647758cc466f7399ffea4",
       "version_major": 2,
       "version_minor": 0
      },
      "text/plain": [
       "  0%|          | 0/2 [00:00<?, ?it/s]"
      ]
     },
     "metadata": {},
     "output_type": "display_data"
    }
   ],
   "source": [
    "def calc_RNAseq_depth(tag):\n",
    "    itvs = ignore_intervals[runs.set_index('tag').loc[tag, 'reference_assembly']]\n",
    "    \n",
    "    with pysam.AlignmentFile(workdir/'bam'/f'{tag}.bam', 'rb') as inbam:\n",
    "        try:\n",
    "            _, plus_tmp  = tempfile.mkstemp(suffix='.bam')\n",
    "            _, minus_tmp = tempfile.mkstemp(suffix='.bam')\n",
    "\n",
    "            with pysam.AlignmentFile(plus_tmp , 'wb', template=inbam) as plus_bam, \\\n",
    "                 pysam.AlignmentFile(minus_tmp, 'wb', template=inbam) as minus_bam :\n",
    "                outbam = {True: minus_bam, False: plus_bam}\n",
    "                for read in inbam:\n",
    "                    # ignore unmapped or multi-mapped reads\n",
    "                    if read.is_unmapped or read.has_tag('XS'): \n",
    "                        continue\n",
    "                    # ignore reads that intersect with tRNA/rRNA on the same strand\n",
    "                    rrn, rrs, rre = read.reference_name, read.reference_start, read.reference_end\n",
    "                    if any((it.data.strand > 0) == read.is_reverse for it in itvs[rrn][rrs:rre]): \n",
    "                        continue\n",
    "\n",
    "                    outbam[read.is_reverse].write(read)\n",
    "\n",
    "            pos_idx = pd.MultiIndex.from_tuples([(ref, i) for ref, l in zip(inbam.references, inbam.lengths) for i in range(l)])\n",
    "\n",
    "            with pysam.AlignmentFile(plus_tmp, 'rb') as plus_bam:\n",
    "                depth_plus = pd.Series({\n",
    "                    (pc.reference_name, pc.reference_pos): pc.nsegments\n",
    "                    for pc in plus_bam.pileup()\n",
    "                }, index=pos_idx, dtype=pd.Int64Dtype()).fillna(0)\n",
    "\n",
    "            with pysam.AlignmentFile(minus_tmp, 'rb') as minus_bam:\n",
    "                depth_minus = pd.Series({\n",
    "                    (pc.reference_name, pc.reference_pos): pc.nsegments\n",
    "                    for pc in minus_bam.pileup()\n",
    "                }, index=pos_idx, dtype=pd.Int64Dtype()).fillna(0)\n",
    "\n",
    "        except Exception as e:\n",
    "            print(e)\n",
    "        finally:\n",
    "            os.remove(plus_tmp)\n",
    "            os.remove(minus_tmp)\n",
    "        \n",
    "    depth_plus.to_pickle(workdir/'depth'/f'{tag}.plus.pkl.bz2')\n",
    "    depth_minus.to_pickle(workdir/'depth'/f'{tag}.minus.pkl.bz2')\n",
    "\n",
    "with Pool(40) as pool:\n",
    "    for _ in tqdm(pool.imap_unordered(calc_RNAseq_depth, runs[runs['type']=='RNA']['tag']), total=2):\n",
    "        pass"
   ]
  },
  {
   "cell_type": "code",
   "execution_count": 6,
   "id": "adult-texture",
   "metadata": {
    "tags": []
   },
   "outputs": [
    {
     "data": {
      "application/vnd.jupyter.widget-view+json": {
       "model_id": "080273582c714914a44d7428fe8a83e0",
       "version_major": 2,
       "version_minor": 0
      },
      "text/plain": [
       "  0%|          | 0/2 [00:00<?, ?it/s]"
      ]
     },
     "metadata": {},
     "output_type": "display_data"
    }
   ],
   "source": [
    "def calc_Riboseq_density(tag):\n",
    "    itvs = ignore_intervals[runs.set_index('tag').loc[tag, 'reference_assembly']]\n",
    "    \n",
    "    with pysam.AlignmentFile(workdir/'bam'/f'{tag}.bam', 'rb') as bamfile:\n",
    "        depth_plus  = {ref: pd.Series(0, index=range(l)) for ref, l in zip(bamfile.references, bamfile.lengths)}\n",
    "        depth_minus = {ref: pd.Series(0, index=range(l)) for ref, l in zip(bamfile.references, bamfile.lengths)}\n",
    "\n",
    "        for read in bamfile:\n",
    "            # ignore unmapped or multi-mapped reads\n",
    "            if read.is_unmapped or read.has_tag('XS'): \n",
    "                continue\n",
    "            # ignore reads that intersect with tRNA/rRNA on the same strand\n",
    "            rrn, rrs, rre = read.reference_name, read.reference_start, read.reference_end\n",
    "            if any((it.data.strand > 0) == read.is_reverse for it in itvs[rrn][rrs:rre]): \n",
    "                continue\n",
    "                \n",
    "            if read.is_reverse:\n",
    "                depth_minus[rrn][rrs] += 1\n",
    "            else:\n",
    "                depth_plus[rrn][rre-1] += 1\n",
    "        \n",
    "        depth_plus  = pd.concat(depth_plus.values() , keys=depth_plus.keys() )\n",
    "        depth_minus = pd.concat(depth_minus.values(), keys=depth_minus.keys())\n",
    "        \n",
    "        depth_plus.to_pickle(workdir/'depth'/f'{tag}.plus.pkl.bz2')\n",
    "        depth_minus.to_pickle(workdir/'depth'/f'{tag}.minus.pkl.bz2')\n",
    "    \n",
    "    return depth_plus, depth_minus\n",
    "\n",
    "with Pool(40) as pool:\n",
    "    for _ in tqdm(pool.imap_unordered(calc_Riboseq_density, runs[runs['type']=='Ribo']['tag']), total=2):\n",
    "        pass"
   ]
  },
  {
   "cell_type": "code",
   "execution_count": null,
   "id": "integrated-growth",
   "metadata": {},
   "outputs": [],
   "source": []
  }
 ],
 "metadata": {
  "kernelspec": {
   "display_name": "Python 3",
   "language": "python",
   "name": "python3"
  },
  "language_info": {
   "codemirror_mode": {
    "name": "ipython",
    "version": 3
   },
   "file_extension": ".py",
   "mimetype": "text/x-python",
   "name": "python",
   "nbconvert_exporter": "python",
   "pygments_lexer": "ipython3",
   "version": "3.8.8"
  }
 },
 "nbformat": 4,
 "nbformat_minor": 5
}
