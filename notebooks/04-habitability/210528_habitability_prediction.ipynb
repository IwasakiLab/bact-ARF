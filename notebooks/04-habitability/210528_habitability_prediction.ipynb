{
 "cells": [
  {
   "cell_type": "markdown",
   "id": "electoral-folks",
   "metadata": {},
   "source": [
    "# Microbial habitability and IDP propensity of ARFs\n"
   ]
  },
  {
   "cell_type": "markdown",
   "id": "electoral-progressive",
   "metadata": {},
   "source": [
    "ProkAtlas database (Mise & Iwasaki, *iScience*, 2020) was downloaded on May. 24, 2021, with the follwing commands:\n",
    "\n",
    "```{bash}\n",
    "# at data/pubdata/prokatlas\n",
    "wget http://msk33.github.io/ProkAtlas.fa.zip\n",
    "unzip ProkAtlas.fa.zip ProkAtlas.fa\n",
    "\n",
    "md5sum ProkAtlas.fa\n",
    "#=> 5073763f565fb8def4dcd3b7b052245a  ProkAtlas.fa\n",
    "```"
   ]
  },
  {
   "cell_type": "markdown",
   "id": "reserved-class",
   "metadata": {},
   "source": [
    "BLAST search was performed under the following configurations:\n",
    "\n",
    "```{bash}\n",
    "docker-compose run --rm blast /bin/bash /scripts/210527_prokatlas_blastn.sh\n",
    "```\n",
    "\n",
    "- docker-compose.yml (partial)\n",
    "    ```\n",
    "    blast:\n",
    "    image: ncbi/blast:2.11.0\n",
    "    volumes:\n",
    "      - ./data:/data\n",
    "      - ./scripts:/scripts\n",
    "    ```\n",
    "\n",
    "\n",
    "- docker/blast/Dockerfile\n",
    "    ```{Dockerfile}\n",
    "    FROM continuumio/miniconda3:4.9.2\n",
    "    RUN conda install -c conda-forge -y mamba==0.8.2\n",
    "    RUN mamba install -c bioconda    -y blast==2.11.0  \n",
    "    ```\n",
    "\n",
    "\n",
    "- scripts/210527_prokatlas_blastn.sh:\n",
    "\n",
    "    ```{bash}\n",
    "    #!/bin/bash -eu\n",
    "\n",
    "    run_blastn () {\n",
    "        local infile=$1\n",
    "        local outfile=${infile/16S/prokatlas}\n",
    "        outfile=${outfile/.fna/.blasttab}\n",
    "        blastn -db /data/prokatlas/prokatlas -query $infile -out $outfile -outfmt \"6 qseqid sseqid qlen qstart qend slen sstart send nident length\" -evalue 1e-10 -max_target_seqs 361474\n",
    "    }\n",
    "\n",
    "    export -f run_blastn\n",
    "\n",
    "    # DB compliation\n",
    "    makeblastdb -dbtype nucl -in /data/pubdata/prokatlas/ProkAtlas.fa -hash_index -out /data/prokatlas/prokatlas\n",
    "\n",
    "    # BLAST search\n",
    "    ls /data/16S/*.fna | xargs -t -P100 -L1 -I{} /bin/bash -c 'run_blastn {}'\n",
    "    ```"
   ]
  },
  {
   "cell_type": "code",
   "execution_count": 1,
   "id": "respective-nigeria",
   "metadata": {},
   "outputs": [],
   "source": [
    "import re\n",
    "import numpy as np\n",
    "import pandas as pd\n",
    "from Bio import SeqIO\n",
    "from collections import Counter\n",
    "from tqdm.notebook import tqdm\n",
    "from pyscripts.config import path2\n",
    "from pyscripts.datasets import Metadata\n",
    "metadata = Metadata()"
   ]
  },
  {
   "cell_type": "code",
   "execution_count": 2,
   "id": "tested-corpus",
   "metadata": {},
   "outputs": [],
   "source": [
    "db_counts = pd.Series(Counter([\n",
    "    re.match('seq_\\d+;barcodelabel=(.+);', rec.id).group(1) \n",
    "    for rec in SeqIO.parse(path2.pubdata/'prokatlas'/'ProkAtlas.fa', 'fasta')\n",
    "]))\n",
    "env_clusters = pd.read_csv(\n",
    "    path2.metadata/'ProkAtlas_env_clusters.tsv', sep='\\t', index_col=0, usecols=[0,2], squeeze=True\n",
    ").rename('cluster')\n",
    "idf_wights = np.log(db_counts.sum() / db_counts.groupby(env_clusters).sum())"
   ]
  },
  {
   "cell_type": "code",
   "execution_count": 3,
   "id": "emotional-mozambique",
   "metadata": {},
   "outputs": [
    {
     "data": {
      "application/vnd.jupyter.widget-view+json": {
       "model_id": "88493f5fc80c41e5910eb68825e8600a",
       "version_major": 2,
       "version_minor": 0
      },
      "text/plain": [
       "  0%|          | 0/2624 [00:00<?, ?it/s]"
      ]
     },
     "metadata": {},
     "output_type": "display_data"
    }
   ],
   "source": [
    "def filter_hits(hits, len_thresh=150, id_thresh=0.97): # as recommended\n",
    "    filt1 = hits[\n",
    "        (hits.length >= len_thresh) & \n",
    "        ((hits.nident / hits.length) >= id_thresh)\n",
    "    ]\n",
    "    filt1_sstart = filt1[['sstartp', 'sendp']].min(axis=1)\n",
    "    filt1_send   = filt1[['sstartp', 'sendp']].max(axis=1)\n",
    "    filt2 = filt1[\n",
    "        ((filt1.qlen - filt1.qend <= 2) | (filt1.slen - filt1_send <= 2)) &\n",
    "        ((filt1.qstart <= 3) | (filt1_sstart <= 3))\n",
    "    ][['qseqid','sseqid']].reset_index(drop=True)\n",
    "    filt2 = filt2.assign(sseqid=filt2.sseqid.str.extract('seq_\\d+;barcodelabel=(.+)'))\n",
    "    return filt2.rename(columns={'qseqid': 'rrs_id', 'sseqid': 'environment'})\n",
    "\n",
    "def calc_custom_scores(gcf):\n",
    "    hits = pd.read_csv(\n",
    "        path2.data/'prokatlas'/f'{gcf}.blasttab', sep='\\t',\n",
    "        names=\"qseqid sseqid qlen qstart qend slen sstartp sendp nident length\".split()\n",
    "    )\n",
    "    filtered_hits = filter_hits(hits)\n",
    "    clustered_counts = pd.crosstab(filtered_hits['rrs_id'], filtered_hits['environment']).mean().groupby(env_clusters).sum()\n",
    "    return gcf, (clustered_counts * idf_wights)\n",
    "\n",
    "from multiprocessing import Pool\n",
    "\n",
    "with Pool(100) as pool:\n",
    "    habitablity_scores = pd.DataFrame(\n",
    "        dict(tqdm(pool.imap_unordered(calc_custom_scores, metadata.acc['refseq']), total=len(metadata.acc))), \n",
    "        index=idf_wights.index, columns=metadata.acc['refseq'], dtype=float\n",
    "    )\n"
   ]
  },
  {
   "cell_type": "code",
   "execution_count": 4,
   "id": "stopped-daily",
   "metadata": {},
   "outputs": [],
   "source": [
    "habitablity_scores.to_pickle(path2.data/'prokatlas'/'summary.pkl.bz2')"
   ]
  },
  {
   "cell_type": "code",
   "execution_count": null,
   "id": "nominated-director",
   "metadata": {},
   "outputs": [],
   "source": []
  }
 ],
 "metadata": {
  "kernelspec": {
   "display_name": "Python 3",
   "language": "python",
   "name": "python3"
  },
  "language_info": {
   "codemirror_mode": {
    "name": "ipython",
    "version": 3
   },
   "file_extension": ".py",
   "mimetype": "text/x-python",
   "name": "python",
   "nbconvert_exporter": "python",
   "pygments_lexer": "ipython3",
   "version": "3.8.8"
  }
 },
 "nbformat": 4,
 "nbformat_minor": 5
}
